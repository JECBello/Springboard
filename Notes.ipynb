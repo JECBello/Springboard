{
 "cells": [
  {
   "cell_type": "markdown",
   "metadata": {},
   "source": [
    "Git Commands: \n",
    "\n",
    "    - git status\n",
    "    - git add filename\n",
    "    - git commit -m 'commit message'\n",
    "    - git push origin master "
   ]
  },
  {
   "cell_type": "markdown",
   "metadata": {},
   "source": [
    "Linux Commands: \n",
    "  \n",
    "    - find: used to search for files \n",
    "        - name\n",
    "    - grep: used to match characters \n",
    "        - r: recursively\n",
    "        - o: display only matching characters\n",
    "        - l: display names of files with matches\n",
    "    - xargs: typically used to pipe find and grepl together \n",
    "        Ex] find . -name 'access.log*' | xarg grep '500' "
   ]
  }
 ],
 "metadata": {
  "kernelspec": {
   "display_name": "Python 3",
   "language": "python",
   "name": "python3"
  },
  "language_info": {
   "codemirror_mode": {
    "name": "ipython",
    "version": 3
   },
   "file_extension": ".py",
   "mimetype": "text/x-python",
   "name": "python",
   "nbconvert_exporter": "python",
   "pygments_lexer": "ipython3",
   "version": "3.7.3"
  }
 },
 "nbformat": 4,
 "nbformat_minor": 2
}
