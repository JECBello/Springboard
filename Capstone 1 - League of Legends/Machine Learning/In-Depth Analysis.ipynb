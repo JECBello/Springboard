{
 "cells": [
  {
   "cell_type": "markdown",
   "metadata": {},
   "source": [
    "# Overview\n",
    "\n",
    "For the machine learning section of the Capstone, three classifiers will be compared to find which performs best. These classifiers were chosen due to their performance regarding larger datasets with many features(for this dataset: ~5k features, ~7.5k samples). The classifiers are as follows: \n",
    "\n",
    "    - Random Forest\n",
    "    - Support Vector Machine\n",
    "    - Neural Network\n",
    " \n",
    "The goal of the classifiers is to predict which team will win given certain features/indicators within the game. The classifiers will be evaluated based on how many game outcomes they predicted correctly. THese results will be displayed using a confusion matrix. "
   ]
  },
  {
   "cell_type": "code",
   "execution_count": 18,
   "metadata": {},
   "outputs": [],
   "source": [
    "# Import standard packages\n",
    "import numpy as np \n",
    "import pandas as pd\n",
    "import matplotlib.pyplot as plt \n",
    "import seaborn as sns"
   ]
  },
  {
   "cell_type": "code",
   "execution_count": 19,
   "metadata": {},
   "outputs": [],
   "source": [
    "# Load wrangled dataframe\n",
    "league_wrangled = pd.read_csv(\"../Dataset/Wrangled_LeagueofLegends.csv\")"
   ]
  },
  {
   "cell_type": "code",
   "execution_count": 20,
   "metadata": {},
   "outputs": [
    {
     "data": {
      "text/html": [
       "<div>\n",
       "<style scoped>\n",
       "    .dataframe tbody tr th:only-of-type {\n",
       "        vertical-align: middle;\n",
       "    }\n",
       "\n",
       "    .dataframe tbody tr th {\n",
       "        vertical-align: top;\n",
       "    }\n",
       "\n",
       "    .dataframe thead th {\n",
       "        text-align: right;\n",
       "    }\n",
       "</style>\n",
       "<table border=\"1\" class=\"dataframe\">\n",
       "  <thead>\n",
       "    <tr style=\"text-align: right;\">\n",
       "      <th></th>\n",
       "      <th>bResult</th>\n",
       "      <th>gamelength</th>\n",
       "      <th>golddiff</th>\n",
       "      <th>goldblue</th>\n",
       "      <th>bKills</th>\n",
       "      <th>bInhibs</th>\n",
       "      <th>bBarons</th>\n",
       "      <th>bHeralds</th>\n",
       "      <th>goldred</th>\n",
       "      <th>rKills</th>\n",
       "      <th>...</th>\n",
       "      <th>bbot_base</th>\n",
       "      <th>rtop_outer</th>\n",
       "      <th>rtop_inner</th>\n",
       "      <th>rtop_base</th>\n",
       "      <th>rmiddle_outer</th>\n",
       "      <th>rmiddle_inner</th>\n",
       "      <th>rbmiddle_base</th>\n",
       "      <th>rbot_outer</th>\n",
       "      <th>rbot_inner</th>\n",
       "      <th>rbot_base</th>\n",
       "    </tr>\n",
       "  </thead>\n",
       "  <tbody>\n",
       "    <tr>\n",
       "      <td>0</td>\n",
       "      <td>1</td>\n",
       "      <td>40</td>\n",
       "      <td>4.127967e+06</td>\n",
       "      <td>3.594454e+08</td>\n",
       "      <td>16</td>\n",
       "      <td>2</td>\n",
       "      <td>0</td>\n",
       "      <td>0</td>\n",
       "      <td>2.932450e+08</td>\n",
       "      <td>9</td>\n",
       "      <td>...</td>\n",
       "      <td>0.000</td>\n",
       "      <td>15.288</td>\n",
       "      <td>39.23</td>\n",
       "      <td>0.0</td>\n",
       "      <td>20.681</td>\n",
       "      <td>0.000</td>\n",
       "      <td>0.000</td>\n",
       "      <td>17.237</td>\n",
       "      <td>0.0</td>\n",
       "      <td>0.0</td>\n",
       "    </tr>\n",
       "    <tr>\n",
       "      <td>1</td>\n",
       "      <td>0</td>\n",
       "      <td>38</td>\n",
       "      <td>9.550643e+05</td>\n",
       "      <td>2.983951e+08</td>\n",
       "      <td>10</td>\n",
       "      <td>0</td>\n",
       "      <td>1</td>\n",
       "      <td>0</td>\n",
       "      <td>2.739425e+08</td>\n",
       "      <td>9</td>\n",
       "      <td>...</td>\n",
       "      <td>0.000</td>\n",
       "      <td>23.409</td>\n",
       "      <td>0.00</td>\n",
       "      <td>0.0</td>\n",
       "      <td>19.257</td>\n",
       "      <td>29.799</td>\n",
       "      <td>29.993</td>\n",
       "      <td>15.206</td>\n",
       "      <td>0.0</td>\n",
       "      <td>0.0</td>\n",
       "    </tr>\n",
       "    <tr>\n",
       "      <td>2</td>\n",
       "      <td>1</td>\n",
       "      <td>40</td>\n",
       "      <td>1.647345e+07</td>\n",
       "      <td>4.426966e+08</td>\n",
       "      <td>22</td>\n",
       "      <td>4</td>\n",
       "      <td>1</td>\n",
       "      <td>0</td>\n",
       "      <td>2.926390e+08</td>\n",
       "      <td>8</td>\n",
       "      <td>...</td>\n",
       "      <td>37.109</td>\n",
       "      <td>30.493</td>\n",
       "      <td>0.00</td>\n",
       "      <td>0.0</td>\n",
       "      <td>24.620</td>\n",
       "      <td>0.000</td>\n",
       "      <td>0.000</td>\n",
       "      <td>0.000</td>\n",
       "      <td>0.0</td>\n",
       "      <td>0.0</td>\n",
       "    </tr>\n",
       "    <tr>\n",
       "      <td>3</td>\n",
       "      <td>0</td>\n",
       "      <td>41</td>\n",
       "      <td>3.315823e+06</td>\n",
       "      <td>2.912887e+08</td>\n",
       "      <td>10</td>\n",
       "      <td>0</td>\n",
       "      <td>1</td>\n",
       "      <td>0</td>\n",
       "      <td>3.329506e+08</td>\n",
       "      <td>21</td>\n",
       "      <td>...</td>\n",
       "      <td>0.000</td>\n",
       "      <td>20.760</td>\n",
       "      <td>0.00</td>\n",
       "      <td>0.0</td>\n",
       "      <td>19.122</td>\n",
       "      <td>27.034</td>\n",
       "      <td>31.665</td>\n",
       "      <td>29.969</td>\n",
       "      <td>0.0</td>\n",
       "      <td>0.0</td>\n",
       "    </tr>\n",
       "    <tr>\n",
       "      <td>4</td>\n",
       "      <td>1</td>\n",
       "      <td>35</td>\n",
       "      <td>8.653433e+06</td>\n",
       "      <td>2.863538e+08</td>\n",
       "      <td>22</td>\n",
       "      <td>1</td>\n",
       "      <td>1</td>\n",
       "      <td>0</td>\n",
       "      <td>2.126620e+08</td>\n",
       "      <td>10</td>\n",
       "      <td>...</td>\n",
       "      <td>33.925</td>\n",
       "      <td>15.252</td>\n",
       "      <td>0.00</td>\n",
       "      <td>0.0</td>\n",
       "      <td>11.644</td>\n",
       "      <td>31.490</td>\n",
       "      <td>0.000</td>\n",
       "      <td>12.438</td>\n",
       "      <td>0.0</td>\n",
       "      <td>0.0</td>\n",
       "    </tr>\n",
       "  </tbody>\n",
       "</table>\n",
       "<p>5 rows × 5720 columns</p>\n",
       "</div>"
      ],
      "text/plain": [
       "   bResult  gamelength      golddiff      goldblue  bKills  bInhibs  bBarons  \\\n",
       "0        1          40  4.127967e+06  3.594454e+08      16        2        0   \n",
       "1        0          38  9.550643e+05  2.983951e+08      10        0        1   \n",
       "2        1          40  1.647345e+07  4.426966e+08      22        4        1   \n",
       "3        0          41  3.315823e+06  2.912887e+08      10        0        1   \n",
       "4        1          35  8.653433e+06  2.863538e+08      22        1        1   \n",
       "\n",
       "   bHeralds       goldred  rKills  ...  bbot_base  rtop_outer  rtop_inner  \\\n",
       "0         0  2.932450e+08       9  ...      0.000      15.288       39.23   \n",
       "1         0  2.739425e+08       9  ...      0.000      23.409        0.00   \n",
       "2         0  2.926390e+08       8  ...     37.109      30.493        0.00   \n",
       "3         0  3.329506e+08      21  ...      0.000      20.760        0.00   \n",
       "4         0  2.126620e+08      10  ...     33.925      15.252        0.00   \n",
       "\n",
       "   rtop_base  rmiddle_outer  rmiddle_inner  rbmiddle_base  rbot_outer  \\\n",
       "0        0.0         20.681          0.000          0.000      17.237   \n",
       "1        0.0         19.257         29.799         29.993      15.206   \n",
       "2        0.0         24.620          0.000          0.000       0.000   \n",
       "3        0.0         19.122         27.034         31.665      29.969   \n",
       "4        0.0         11.644         31.490          0.000      12.438   \n",
       "\n",
       "   rbot_inner  rbot_base  \n",
       "0         0.0        0.0  \n",
       "1         0.0        0.0  \n",
       "2         0.0        0.0  \n",
       "3         0.0        0.0  \n",
       "4         0.0        0.0  \n",
       "\n",
       "[5 rows x 5720 columns]"
      ]
     },
     "execution_count": 20,
     "metadata": {},
     "output_type": "execute_result"
    }
   ],
   "source": [
    "# View dataframe\n",
    "league_wrangled.head()"
   ]
  },
  {
   "cell_type": "code",
   "execution_count": 21,
   "metadata": {},
   "outputs": [],
   "source": [
    "# Seperate labels from training data\n",
    "result = league_wrangled.pop('bResult')"
   ]
  },
  {
   "cell_type": "code",
   "execution_count": 22,
   "metadata": {},
   "outputs": [
    {
     "data": {
      "text/html": [
       "<div>\n",
       "<style scoped>\n",
       "    .dataframe tbody tr th:only-of-type {\n",
       "        vertical-align: middle;\n",
       "    }\n",
       "\n",
       "    .dataframe tbody tr th {\n",
       "        vertical-align: top;\n",
       "    }\n",
       "\n",
       "    .dataframe thead th {\n",
       "        text-align: right;\n",
       "    }\n",
       "</style>\n",
       "<table border=\"1\" class=\"dataframe\">\n",
       "  <thead>\n",
       "    <tr style=\"text-align: right;\">\n",
       "      <th></th>\n",
       "      <th>gamelength</th>\n",
       "      <th>golddiff</th>\n",
       "      <th>goldblue</th>\n",
       "      <th>bKills</th>\n",
       "      <th>bInhibs</th>\n",
       "      <th>bBarons</th>\n",
       "      <th>bHeralds</th>\n",
       "      <th>goldred</th>\n",
       "      <th>rKills</th>\n",
       "      <th>rInhibs</th>\n",
       "      <th>...</th>\n",
       "      <th>bbot_base</th>\n",
       "      <th>rtop_outer</th>\n",
       "      <th>rtop_inner</th>\n",
       "      <th>rtop_base</th>\n",
       "      <th>rmiddle_outer</th>\n",
       "      <th>rmiddle_inner</th>\n",
       "      <th>rbmiddle_base</th>\n",
       "      <th>rbot_outer</th>\n",
       "      <th>rbot_inner</th>\n",
       "      <th>rbot_base</th>\n",
       "    </tr>\n",
       "  </thead>\n",
       "  <tbody>\n",
       "    <tr>\n",
       "      <td>0</td>\n",
       "      <td>40</td>\n",
       "      <td>4.127967e+06</td>\n",
       "      <td>3.594454e+08</td>\n",
       "      <td>16</td>\n",
       "      <td>2</td>\n",
       "      <td>0</td>\n",
       "      <td>0</td>\n",
       "      <td>2.932450e+08</td>\n",
       "      <td>9</td>\n",
       "      <td>0</td>\n",
       "      <td>...</td>\n",
       "      <td>0.000</td>\n",
       "      <td>15.288</td>\n",
       "      <td>39.23</td>\n",
       "      <td>0.0</td>\n",
       "      <td>20.681</td>\n",
       "      <td>0.000</td>\n",
       "      <td>0.000</td>\n",
       "      <td>17.237</td>\n",
       "      <td>0.0</td>\n",
       "      <td>0.0</td>\n",
       "    </tr>\n",
       "    <tr>\n",
       "      <td>1</td>\n",
       "      <td>38</td>\n",
       "      <td>9.550643e+05</td>\n",
       "      <td>2.983951e+08</td>\n",
       "      <td>10</td>\n",
       "      <td>0</td>\n",
       "      <td>1</td>\n",
       "      <td>0</td>\n",
       "      <td>2.739425e+08</td>\n",
       "      <td>9</td>\n",
       "      <td>1</td>\n",
       "      <td>...</td>\n",
       "      <td>0.000</td>\n",
       "      <td>23.409</td>\n",
       "      <td>0.00</td>\n",
       "      <td>0.0</td>\n",
       "      <td>19.257</td>\n",
       "      <td>29.799</td>\n",
       "      <td>29.993</td>\n",
       "      <td>15.206</td>\n",
       "      <td>0.0</td>\n",
       "      <td>0.0</td>\n",
       "    </tr>\n",
       "    <tr>\n",
       "      <td>2</td>\n",
       "      <td>40</td>\n",
       "      <td>1.647345e+07</td>\n",
       "      <td>4.426966e+08</td>\n",
       "      <td>22</td>\n",
       "      <td>4</td>\n",
       "      <td>1</td>\n",
       "      <td>0</td>\n",
       "      <td>2.926390e+08</td>\n",
       "      <td>8</td>\n",
       "      <td>0</td>\n",
       "      <td>...</td>\n",
       "      <td>37.109</td>\n",
       "      <td>30.493</td>\n",
       "      <td>0.00</td>\n",
       "      <td>0.0</td>\n",
       "      <td>24.620</td>\n",
       "      <td>0.000</td>\n",
       "      <td>0.000</td>\n",
       "      <td>0.000</td>\n",
       "      <td>0.0</td>\n",
       "      <td>0.0</td>\n",
       "    </tr>\n",
       "    <tr>\n",
       "      <td>3</td>\n",
       "      <td>41</td>\n",
       "      <td>3.315823e+06</td>\n",
       "      <td>2.912887e+08</td>\n",
       "      <td>10</td>\n",
       "      <td>0</td>\n",
       "      <td>1</td>\n",
       "      <td>0</td>\n",
       "      <td>3.329506e+08</td>\n",
       "      <td>21</td>\n",
       "      <td>1</td>\n",
       "      <td>...</td>\n",
       "      <td>0.000</td>\n",
       "      <td>20.760</td>\n",
       "      <td>0.00</td>\n",
       "      <td>0.0</td>\n",
       "      <td>19.122</td>\n",
       "      <td>27.034</td>\n",
       "      <td>31.665</td>\n",
       "      <td>29.969</td>\n",
       "      <td>0.0</td>\n",
       "      <td>0.0</td>\n",
       "    </tr>\n",
       "    <tr>\n",
       "      <td>4</td>\n",
       "      <td>35</td>\n",
       "      <td>8.653433e+06</td>\n",
       "      <td>2.863538e+08</td>\n",
       "      <td>22</td>\n",
       "      <td>1</td>\n",
       "      <td>1</td>\n",
       "      <td>0</td>\n",
       "      <td>2.126620e+08</td>\n",
       "      <td>10</td>\n",
       "      <td>0</td>\n",
       "      <td>...</td>\n",
       "      <td>33.925</td>\n",
       "      <td>15.252</td>\n",
       "      <td>0.00</td>\n",
       "      <td>0.0</td>\n",
       "      <td>11.644</td>\n",
       "      <td>31.490</td>\n",
       "      <td>0.000</td>\n",
       "      <td>12.438</td>\n",
       "      <td>0.0</td>\n",
       "      <td>0.0</td>\n",
       "    </tr>\n",
       "  </tbody>\n",
       "</table>\n",
       "<p>5 rows × 5719 columns</p>\n",
       "</div>"
      ],
      "text/plain": [
       "   gamelength      golddiff      goldblue  bKills  bInhibs  bBarons  bHeralds  \\\n",
       "0          40  4.127967e+06  3.594454e+08      16        2        0         0   \n",
       "1          38  9.550643e+05  2.983951e+08      10        0        1         0   \n",
       "2          40  1.647345e+07  4.426966e+08      22        4        1         0   \n",
       "3          41  3.315823e+06  2.912887e+08      10        0        1         0   \n",
       "4          35  8.653433e+06  2.863538e+08      22        1        1         0   \n",
       "\n",
       "        goldred  rKills  rInhibs  ...  bbot_base  rtop_outer  rtop_inner  \\\n",
       "0  2.932450e+08       9        0  ...      0.000      15.288       39.23   \n",
       "1  2.739425e+08       9        1  ...      0.000      23.409        0.00   \n",
       "2  2.926390e+08       8        0  ...     37.109      30.493        0.00   \n",
       "3  3.329506e+08      21        1  ...      0.000      20.760        0.00   \n",
       "4  2.126620e+08      10        0  ...     33.925      15.252        0.00   \n",
       "\n",
       "   rtop_base  rmiddle_outer  rmiddle_inner  rbmiddle_base  rbot_outer  \\\n",
       "0        0.0         20.681          0.000          0.000      17.237   \n",
       "1        0.0         19.257         29.799         29.993      15.206   \n",
       "2        0.0         24.620          0.000          0.000       0.000   \n",
       "3        0.0         19.122         27.034         31.665      29.969   \n",
       "4        0.0         11.644         31.490          0.000      12.438   \n",
       "\n",
       "   rbot_inner  rbot_base  \n",
       "0         0.0        0.0  \n",
       "1         0.0        0.0  \n",
       "2         0.0        0.0  \n",
       "3         0.0        0.0  \n",
       "4         0.0        0.0  \n",
       "\n",
       "[5 rows x 5719 columns]"
      ]
     },
     "execution_count": 22,
     "metadata": {},
     "output_type": "execute_result"
    }
   ],
   "source": [
    "league_wrangled.head()"
   ]
  },
  {
   "cell_type": "markdown",
   "metadata": {},
   "source": [
    "## Random Forest \n",
    "\n",
    "Random forest classifiers are made of an ensemble of decision trees. Decision trees work by seperating the data such that the homogeneity of the splits are maximized. These decision trees all return a classification, and the classification that appears most frequently is considered the final classification by the random forest. \n",
    "\n",
    "The random forest algorithm can easily be implemented using the Scikit-Learn Package. Because we are trying to predict between two classes (Blue team win, or Red team win), the RandomForestClassifier class will be used. "
   ]
  },
  {
   "cell_type": "code",
   "execution_count": 23,
   "metadata": {},
   "outputs": [
    {
     "name": "stdout",
     "output_type": "stream",
     "text": [
      "Training Features Shape: (5079, 5719)\n",
      "Training Labels Shape: (5079,)\n",
      "Testing Features Shape: (2503, 5719)\n",
      "Testing Labels Shape: (2503,)\n"
     ]
    }
   ],
   "source": [
    "# First split the data into training and testing sets\n",
    "from sklearn.model_selection import train_test_split\n",
    "\n",
    "X_train, X_test, y_train, y_test = train_test_split(league_wrangled, result, \n",
    "                                                    test_size=0.33, random_state=42)\n",
    "\n",
    "\n",
    "print('Training Features Shape:', X_train.shape)\n",
    "print('Training Labels Shape:', y_train.shape)\n",
    "print('Testing Features Shape:', X_test.shape)\n",
    "print('Testing Labels Shape:', y_test.shape)"
   ]
  },
  {
   "cell_type": "code",
   "execution_count": 24,
   "metadata": {},
   "outputs": [
    {
     "data": {
      "text/plain": [
       "RandomForestClassifier(bootstrap=True, class_weight=None, criterion='gini',\n",
       "                       max_depth=None, max_features='auto', max_leaf_nodes=None,\n",
       "                       min_impurity_decrease=0.0, min_impurity_split=None,\n",
       "                       min_samples_leaf=1, min_samples_split=2,\n",
       "                       min_weight_fraction_leaf=0.0, n_estimators=1000,\n",
       "                       n_jobs=None, oob_score=False, random_state=42, verbose=0,\n",
       "                       warm_start=False)"
      ]
     },
     "execution_count": 24,
     "metadata": {},
     "output_type": "execute_result"
    }
   ],
   "source": [
    "# Import the Random Forest classifier\n",
    "from sklearn.ensemble import RandomForestClassifier\n",
    "\n",
    "rf = RandomForestClassifier(n_estimators=1000, random_state=42)\n",
    "rf.fit(X_train, y_train)"
   ]
  },
  {
   "cell_type": "code",
   "execution_count": 25,
   "metadata": {},
   "outputs": [
    {
     "name": "stdout",
     "output_type": "stream",
     "text": [
      "Mean accuracy of random forest: 0.9684\n"
     ]
    }
   ],
   "source": [
    "# Evaluate Random Forest \n",
    "rf_acc = rf.score(X_test, y_test)\n",
    "\n",
    "print(f\"Mean accuracy of random forest: {rf_acc:0.4}\")"
   ]
  },
  {
   "cell_type": "code",
   "execution_count": 43,
   "metadata": {},
   "outputs": [
    {
     "name": "stdout",
     "output_type": "stream",
     "text": [
      "              precision    recall  f1-score   support\n",
      "\n",
      "           0       0.96      0.97      0.96      1090\n",
      "           1       0.98      0.97      0.97      1413\n",
      "\n",
      "    accuracy                           0.97      2503\n",
      "   macro avg       0.97      0.97      0.97      2503\n",
      "weighted avg       0.97      0.97      0.97      2503\n",
      "\n"
     ]
    },
    {
     "data": {
      "image/png": "[encoded data removed]",
      "text/plain": [
       "<Figure size 864x576 with 2 Axes>"
      ]
     },
     "metadata": {
      "needs_background": "light"
     },
     "output_type": "display_data"
    }
   ],
   "source": [
    "# Display classification report and confusino matrix\n",
    "from sklearn.metrics import classification_report, confusion_matrix\n",
    "\n",
    "predictions = rf.predict(X_test)\n",
    "\n",
    "# Classification Report\n",
    "print(classification_report(y_test, predictions))\n",
    "\n",
    "# Confusion Matrix\n",
    "conf_mat = confusion_matrix(y_test, predictions)\n",
    "fig, ax = plt.subplots(figsize=(12,8))\n",
    "sns.heatmap(conf_mat, annot=True, annot_kws={'size':15}, fmt='g', cbar=False, cmap=\"Blues\",\n",
    "            xticklabels=['Red Team Win', 'Blue Team Win'],  yticklabels=['Red Team Win', 'Blue Team Win'])\n",
    "\n",
    "# ax.set_title(\"Confusion Matrix\", size=15)\n",
    "plt.yticks([0.75,1.75], ['Red Team Win', 'Blue Team Win'], va='center');"
   ]
  },
  {
   "cell_type": "markdown",
   "metadata": {},
   "source": [
    "### Feature Importance\n",
    "\n",
    "In order to see which features were the most influential in determining who would win, the variable importances will be inspected."
   ]
  },
  {
   "cell_type": "code",
   "execution_count": 10,
   "metadata": {},
   "outputs": [
    {
     "name": "stdout",
     "output_type": "stream",
     "text": [
      "Variable: bInhibs              Importance: 0.0745\n",
      "Variable: rInhibs              Importance: 0.06558\n",
      "Variable: rmiddle_inner        Importance: 0.04422\n",
      "Variable: bbmiddle_base        Importance: 0.04298\n",
      "Variable: rbmiddle_base        Importance: 0.04043\n",
      "Variable: bmiddle_inner        Importance: 0.04002\n",
      "Variable: rKills               Importance: 0.0329\n",
      "Variable: rBarons              Importance: 0.03133\n",
      "Variable: rbot_inner           Importance: 0.02718\n",
      "Variable: bKills               Importance: 0.02693\n",
      "Variable: bBarons              Importance: 0.02635\n",
      "Variable: rtop_inner           Importance: 0.02596\n",
      "Variable: bbot_inner           Importance: 0.02577\n",
      "Variable: btop_inner           Importance: 0.02484\n",
      "Variable: rbot_base            Importance: 0.02364\n",
      "Variable: bbot_base            Importance: 0.0204\n",
      "Variable: num_of_drags         Importance: 0.01985\n",
      "Variable: rtop_base            Importance: 0.01844\n",
      "Variable: btop_base            Importance: 0.01509\n",
      "Variable: rmiddle_outer        Importance: 0.01455\n",
      "Variable: goldredSupport       Importance: 0.01453\n",
      "Variable: goldredADC           Importance: 0.01144\n",
      "Variable: bmiddle_outer        Importance: 0.01116\n",
      "Variable: goldred              Importance: 0.01106\n",
      "Variable: goldblue             Importance: 0.01077\n",
      "Variable: goldredJungle        Importance: 0.01031\n",
      "Variable: rtop_outer           Importance: 0.00955\n",
      "Variable: goldblueSupport      Importance: 0.00919\n",
      "Variable: goldblueMiddle       Importance: 0.00871\n",
      "Variable: goldblueJungle       Importance: 0.00848\n",
      "Variable: goldredMiddle        Importance: 0.00846\n",
      "Variable: goldblueADC          Importance: 0.00836\n",
      "Variable: goldredTop           Importance: 0.00818\n",
      "Variable: rbot_outer           Importance: 0.00763\n",
      "Variable: btop_outer           Importance: 0.00756\n"
     ]
    }
   ],
   "source": [
    "# Get numerical feature importances\n",
    "importances = list(rf.feature_importances_)\n",
    "# List of tuples with variable and importance\n",
    "feature_importances = [(feature, round(importance, 5)) for feature, importance in zip(league_wrangled.columns, importances)]\n",
    "# Sort the feature importances by most important first\n",
    "feature_importances = sorted(feature_importances, key = lambda x: x[1], reverse = True)\n",
    "# Print out the feature and importances \n",
    "[print(f'Variable: {pair[0]:20} Importance: {pair[1]}') for pair in feature_importances[:35]];"
   ]
  },
  {
   "cell_type": "markdown",
   "metadata": {},
   "source": [
    "Based on the feature importances, it is clear that the most important features are the number of inhibtors taken by each team. Afterwards, the inner and base towers are the most significant. Based on the values, it is clear that games are not decided by a single feature alone, but rather a combination of multiple features.  "
   ]
  },
  {
   "cell_type": "markdown",
   "metadata": {},
   "source": [
    "## Suppot Vector Machine (SVM)\n",
    "\n",
    "A SVM is a classifier that seperates the data points using hyperplanes. Hyperplanes are calculated by maximizing the distance between support vectors and the hyperplane. SVMs take advantage of the kernel trick in order to model nonlinear features. Their advantages include: \n",
    "\n",
    "- Performs well for high-dimensional data\n",
    "- Useful when classes are seperable \n",
    "- Suited for binary classification\n",
    "\n",
    "All of these advantages are applicable to the wrangled league of legends dataset. With regards to the SVM's disadvantages, these include: \n",
    "\n",
    "- Requires a large amount of processing time for large datasets\n",
    "- Does not perform well on overlapping classes\n",
    "- Can be difficult selecting the proper kernel function "
   ]
  },
  {
   "cell_type": "code",
   "execution_count": 11,
   "metadata": {},
   "outputs": [],
   "source": [
    "# Import StandardScaler  \n",
    "from sklearn.preprocessing import StandardScaler\n",
    "\n",
    "league_ss = league_wrangled.copy()\n",
    "ss = StandardScaler() \n",
    "league_ss = ss.fit_transform(league_ss)"
   ]
  },
  {
   "cell_type": "code",
   "execution_count": 12,
   "metadata": {},
   "outputs": [],
   "source": [
    "# Split data into training and testing sets\n",
    "X_train_ss, X_test_ss, y_train_ss, y_test_ss = train_test_split(league_ss, result, \n",
    "                                                    test_size=0.33, random_state=42)"
   ]
  },
  {
   "cell_type": "code",
   "execution_count": 13,
   "metadata": {},
   "outputs": [
    {
     "data": {
      "text/plain": [
       "SVC(C=1.0, cache_size=200, class_weight=None, coef0=0.0,\n",
       "    decision_function_shape='ovr', degree=3, gamma='scale', kernel='rbf',\n",
       "    max_iter=-1, probability=False, random_state=None, shrinking=True,\n",
       "    tol=0.001, verbose=False)"
      ]
     },
     "execution_count": 13,
     "metadata": {},
     "output_type": "execute_result"
    }
   ],
   "source": [
    "# Import SVM\n",
    "from sklearn.svm import SVC\n",
    "\n",
    "svc = SVC(gamma=\"scale\") \n",
    "svc.fit(X_train_ss, y_train_ss)"
   ]
  },
  {
   "cell_type": "code",
   "execution_count": 14,
   "metadata": {},
   "outputs": [
    {
     "name": "stdout",
     "output_type": "stream",
     "text": [
      "Mean Accuracy of SVC: 0.9372752696763883\n"
     ]
    }
   ],
   "source": [
    "svc_acc = svc.score(X_test_ss, y_test_ss)\n",
    "\n",
    "print(f\"Mean Accuracy of SVC: {svc_acc}\")"
   ]
  },
  {
   "cell_type": "markdown",
   "metadata": {},
   "source": [
    "## Neural Network \n",
    "\n",
    "Neural networks are modeled after the way neurons are structured. They are able to learn complex relationships and functions through the adjustment of weights by gradient descent. Simply put, they learn by reducing the error between the predicted value/class and the actual value/class.\n",
    "\n",
    "Because of the nature of neural networks, a simple neural network will be constructed using a single hidden layer. The layer will have half the number of features, will a final single output neuron. "
   ]
  },
  {
   "cell_type": "code",
   "execution_count": 13,
   "metadata": {},
   "outputs": [],
   "source": [
    "# Transform inputs \n",
    "X_train_array = np.asarray(X_train_ss)\n",
    "y_train_array = np.asarray(y_train_ss)\n",
    "\n",
    "X_test_array = np.asarray(X_test_ss)\n",
    "y_test_array = np.asarray(y_test_ss)"
   ]
  },
  {
   "cell_type": "code",
   "execution_count": 14,
   "metadata": {},
   "outputs": [],
   "source": [
    "import tensorflow as tf\n",
    "from tensorflow import keras \n",
    "from tensorflow.keras import layers\n",
    "\n",
    "input_size = len(X_train_array[0])\n",
    "inputs = keras.Input(shape=(input_size, )) \n",
    "dense = layers.Dense(0.5*input_size, activation='relu')(inputs)\n",
    "output = layers.Dense(1, activation='softmax')(dense)\n",
    "\n",
    "model = keras.Model(inputs=inputs, outputs=output, name='base_league_model')"
   ]
  },
  {
   "cell_type": "code",
   "execution_count": 17,
   "metadata": {},
   "outputs": [
    {
     "name": "stdout",
     "output_type": "stream",
     "text": [
      "Model: \"base_league_model\"\n",
      "_________________________________________________________________\n",
      "Layer (type)                 Output Shape              Param #   \n",
      "=================================================================\n",
      "input_1 (InputLayer)         [(None, 5719)]            0         \n",
      "_________________________________________________________________\n",
      "dense (Dense)                (None, 2859)              16353480  \n",
      "_________________________________________________________________\n",
      "dense_1 (Dense)              (None, 1)                 2860      \n",
      "=================================================================\n",
      "Total params: 16,356,340\n",
      "Trainable params: 16,356,340\n",
      "Non-trainable params: 0\n",
      "_________________________________________________________________\n"
     ]
    }
   ],
   "source": [
    "model.summary()"
   ]
  },
  {
   "cell_type": "code",
   "execution_count": 19,
   "metadata": {},
   "outputs": [
    {
     "name": "stdout",
     "output_type": "stream",
     "text": [
      "Train on 5079 samples\n",
      "Epoch 1/100\n",
      "5079/5079 [==============================] - 1s 248us/sample - loss: 7.1398 - accuracy: 0.5344\n",
      "Epoch 2/100\n",
      "5079/5079 [==============================] - 0s 97us/sample - loss: 7.1398 - accuracy: 0.5344\n",
      "Epoch 3/100\n",
      "5079/5079 [==============================] - 1s 99us/sample - loss: 7.1398 - accuracy: 0.5344\n",
      "Epoch 4/100\n",
      "5079/5079 [==============================] - 1s 101us/sample - loss: 7.1398 - accuracy: 0.5344 - loss: 7.2141 \n",
      "Epoch 5/100\n",
      "5079/5079 [==============================] - 1s 100us/sample - loss: 7.1398 - accuracy: 0.5344\n",
      "Epoch 6/100\n",
      "5079/5079 [==============================] - 1s 101us/sample - loss: 7.1398 - accuracy: 0.5344\n",
      "Epoch 7/100\n",
      "5079/5079 [==============================] - 1s 101us/sample - loss: 7.1398 - accuracy: 0.5344\n",
      "Epoch 8/100\n",
      "5079/5079 [==============================] - 1s 100us/sample - loss: 7.1398 - accuracy: 0.5344\n",
      "Epoch 9/100\n",
      "5079/5079 [==============================] - 1s 101us/sample - loss: 7.1398 - accuracy: 0.5344\n",
      "Epoch 10/100\n",
      "5079/5079 [==============================] - 1s 101us/sample - loss: 7.1398 - accuracy: 0.5344\n",
      "Epoch 11/100\n",
      "5079/5079 [==============================] - 1s 101us/sample - loss: 7.1398 - accuracy: 0.5344\n",
      "Epoch 12/100\n",
      "5079/5079 [==============================] - 1s 101us/sample - loss: 7.1398 - accuracy: 0.5344\n",
      "Epoch 13/100\n",
      "5079/5079 [==============================] - 1s 100us/sample - loss: 7.1398 - accuracy: 0.5344\n",
      "Epoch 14/100\n",
      "5079/5079 [==============================] - 1s 101us/sample - loss: 7.1398 - accuracy: 0.5344\n",
      "Epoch 15/100\n",
      "5079/5079 [==============================] - 1s 100us/sample - loss: 7.1398 - accuracy: 0.5344\n",
      "Epoch 16/100\n",
      "5079/5079 [==============================] - 1s 101us/sample - loss: 7.1398 - accuracy: 0.5344\n",
      "Epoch 17/100\n",
      "5079/5079 [==============================] - 1s 101us/sample - loss: 7.1398 - accuracy: 0.5344\n",
      "Epoch 18/100\n",
      "5079/5079 [==============================] - 1s 100us/sample - loss: 7.1398 - accuracy: 0.5344\n",
      "Epoch 19/100\n",
      "5079/5079 [==============================] - 1s 100us/sample - loss: 7.1398 - accuracy: 0.5344\n",
      "Epoch 20/100\n",
      "5079/5079 [==============================] - 1s 101us/sample - loss: 7.1398 - accuracy: 0.5344\n",
      "Epoch 21/100\n",
      "5079/5079 [==============================] - 1s 100us/sample - loss: 7.1398 - accuracy: 0.5344\n",
      "Epoch 22/100\n",
      "5079/5079 [==============================] - 1s 101us/sample - loss: 7.1398 - accuracy: 0.5344\n",
      "Epoch 23/100\n",
      "5079/5079 [==============================] - 1s 101us/sample - loss: 7.1398 - accuracy: 0.5344\n",
      "Epoch 24/100\n",
      "5079/5079 [==============================] - 1s 101us/sample - loss: 7.1398 - accuracy: 0.5344\n",
      "Epoch 25/100\n",
      "5079/5079 [==============================] - 1s 101us/sample - loss: 7.1398 - accuracy: 0.5344\n",
      "Epoch 26/100\n",
      "5079/5079 [==============================] - 1s 101us/sample - loss: 7.1398 - accuracy: 0.5344\n",
      "Epoch 27/100\n",
      "5079/5079 [==============================] - 1s 101us/sample - loss: 7.1398 - accuracy: 0.5344\n",
      "Epoch 28/100\n",
      "5079/5079 [==============================] - 1s 101us/sample - loss: 7.1398 - accuracy: 0.5344\n",
      "Epoch 29/100\n",
      "5079/5079 [==============================] - 1s 101us/sample - loss: 7.1398 - accuracy: 0.5344\n",
      "Epoch 30/100\n",
      "5079/5079 [==============================] - 1s 101us/sample - loss: 7.1398 - accuracy: 0.5344\n",
      "Epoch 31/100\n",
      "5079/5079 [==============================] - 1s 101us/sample - loss: 7.1398 - accuracy: 0.5344\n",
      "Epoch 32/100\n",
      "5079/5079 [==============================] - 1s 101us/sample - loss: 7.1398 - accuracy: 0.5344\n",
      "Epoch 33/100\n",
      "5079/5079 [==============================] - 1s 101us/sample - loss: 7.1398 - accuracy: 0.5344\n",
      "Epoch 34/100\n",
      "5079/5079 [==============================] - 1s 100us/sample - loss: 7.1398 - accuracy: 0.5344\n",
      "Epoch 35/100\n",
      "5079/5079 [==============================] - 1s 101us/sample - loss: 7.1398 - accuracy: 0.5344\n",
      "Epoch 36/100\n",
      "5079/5079 [==============================] - 1s 101us/sample - loss: 7.1398 - accuracy: 0.5344\n",
      "Epoch 37/100\n",
      "5079/5079 [==============================] - 1s 101us/sample - loss: 7.1398 - accuracy: 0.5344\n",
      "Epoch 38/100\n",
      "5079/5079 [==============================] - 1s 101us/sample - loss: 7.1398 - accuracy: 0.5344\n",
      "Epoch 39/100\n",
      "5079/5079 [==============================] - 1s 100us/sample - loss: 7.1398 - accuracy: 0.5344\n",
      "Epoch 40/100\n",
      "5079/5079 [==============================] - 1s 100us/sample - loss: 7.1398 - accuracy: 0.5344\n",
      "Epoch 41/100\n",
      "5079/5079 [==============================] - 1s 101us/sample - loss: 7.1398 - accuracy: 0.5344\n",
      "Epoch 42/100\n",
      "5079/5079 [==============================] - 0s 97us/sample - loss: 7.1398 - accuracy: 0.5344\n",
      "Epoch 43/100\n",
      "5079/5079 [==============================] - 0s 96us/sample - loss: 7.1398 - accuracy: 0.5344\n",
      "Epoch 44/100\n",
      "5079/5079 [==============================] - 0s 97us/sample - loss: 7.1398 - accuracy: 0.5344\n",
      "Epoch 45/100\n",
      "5079/5079 [==============================] - 1s 100us/sample - loss: 7.1398 - accuracy: 0.5344\n",
      "Epoch 46/100\n",
      "5079/5079 [==============================] - 1s 101us/sample - loss: 7.1398 - accuracy: 0.5344\n",
      "Epoch 47/100\n",
      "5079/5079 [==============================] - 1s 100us/sample - loss: 7.1398 - accuracy: 0.5344\n",
      "Epoch 48/100\n",
      "5079/5079 [==============================] - 1s 101us/sample - loss: 7.1398 - accuracy: 0.5344\n",
      "Epoch 49/100\n",
      "5079/5079 [==============================] - 1s 101us/sample - loss: 7.1398 - accuracy: 0.5344\n",
      "Epoch 50/100\n",
      "5079/5079 [==============================] - 1s 101us/sample - loss: 7.1398 - accuracy: 0.5344\n",
      "Epoch 51/100\n",
      "5079/5079 [==============================] - 1s 100us/sample - loss: 7.1398 - accuracy: 0.5344\n",
      "Epoch 52/100\n",
      "5079/5079 [==============================] - 1s 101us/sample - loss: 7.1398 - accuracy: 0.5344\n",
      "Epoch 53/100\n",
      "5079/5079 [==============================] - 1s 101us/sample - loss: 7.1398 - accuracy: 0.5344\n",
      "Epoch 54/100\n",
      "5079/5079 [==============================] - 1s 101us/sample - loss: 7.1398 - accuracy: 0.5344\n",
      "Epoch 55/100\n",
      "5079/5079 [==============================] - 1s 101us/sample - loss: 7.1398 - accuracy: 0.5344\n",
      "Epoch 56/100\n",
      "5079/5079 [==============================] - 1s 101us/sample - loss: 7.1398 - accuracy: 0.5344\n",
      "Epoch 57/100\n",
      "5079/5079 [==============================] - 1s 101us/sample - loss: 7.1398 - accuracy: 0.5344\n",
      "Epoch 58/100\n",
      "5079/5079 [==============================] - 1s 101us/sample - loss: 7.1398 - accuracy: 0.5344\n",
      "Epoch 59/100\n",
      "5079/5079 [==============================] - 1s 102us/sample - loss: 7.1398 - accuracy: 0.5344\n",
      "Epoch 60/100\n",
      "5079/5079 [==============================] - 1s 101us/sample - loss: 7.1398 - accuracy: 0.5344\n",
      "Epoch 61/100\n",
      "5079/5079 [==============================] - 1s 101us/sample - loss: 7.1398 - accuracy: 0.5344\n",
      "Epoch 62/100\n",
      "5079/5079 [==============================] - 1s 101us/sample - loss: 7.1398 - accuracy: 0.5344\n",
      "Epoch 63/100\n",
      "5079/5079 [==============================] - 1s 100us/sample - loss: 7.1398 - accuracy: 0.5344\n",
      "Epoch 64/100\n",
      "5079/5079 [==============================] - 1s 101us/sample - loss: 7.1398 - accuracy: 0.5344\n",
      "Epoch 65/100\n",
      "5079/5079 [==============================] - 1s 100us/sample - loss: 7.1398 - accuracy: 0.5344\n",
      "Epoch 66/100\n",
      "5079/5079 [==============================] - 1s 100us/sample - loss: 7.1398 - accuracy: 0.5344\n",
      "Epoch 67/100\n",
      "5079/5079 [==============================] - 1s 101us/sample - loss: 7.1398 - accuracy: 0.5344\n",
      "Epoch 68/100\n",
      "5079/5079 [==============================] - ETA: 0s - loss: 7.1251 - accuracy: 0.53 - 1s 101us/sample - loss: 7.1398 - accuracy: 0.5344\n",
      "Epoch 69/100\n",
      "5079/5079 [==============================] - 1s 101us/sample - loss: 7.1398 - accuracy: 0.5344\n",
      "Epoch 70/100\n",
      "5079/5079 [==============================] - 1s 101us/sample - loss: 7.1398 - accuracy: 0.5344\n",
      "Epoch 71/100\n",
      "5079/5079 [==============================] - 1s 101us/sample - loss: 7.1398 - accuracy: 0.5344\n",
      "Epoch 72/100\n",
      "5079/5079 [==============================] - 1s 101us/sample - loss: 7.1398 - accuracy: 0.5344\n",
      "Epoch 73/100\n",
      "5079/5079 [==============================] - 1s 101us/sample - loss: 7.1398 - accuracy: 0.5344\n",
      "Epoch 74/100\n",
      "5079/5079 [==============================] - 1s 101us/sample - loss: 7.1398 - accuracy: 0.5344\n",
      "Epoch 75/100\n",
      "5079/5079 [==============================] - 1s 100us/sample - loss: 7.1398 - accuracy: 0.5344\n",
      "Epoch 76/100\n"
     ]
    },
    {
     "name": "stdout",
     "output_type": "stream",
     "text": [
      "5079/5079 [==============================] - 1s 101us/sample - loss: 7.1398 - accuracy: 0.5344\n",
      "Epoch 77/100\n",
      "5079/5079 [==============================] - 1s 101us/sample - loss: 7.1398 - accuracy: 0.5344\n",
      "Epoch 78/100\n",
      "5079/5079 [==============================] - 1s 101us/sample - loss: 7.1398 - accuracy: 0.5344\n",
      "Epoch 79/100\n",
      "5079/5079 [==============================] - 1s 101us/sample - loss: 7.1398 - accuracy: 0.5344\n",
      "Epoch 80/100\n",
      "5079/5079 [==============================] - 1s 101us/sample - loss: 7.1398 - accuracy: 0.5344\n",
      "Epoch 81/100\n",
      "5079/5079 [==============================] - 1s 101us/sample - loss: 7.1398 - accuracy: 0.5344\n",
      "Epoch 82/100\n",
      "5079/5079 [==============================] - 1s 101us/sample - loss: 7.1398 - accuracy: 0.5344\n",
      "Epoch 83/100\n",
      "5079/5079 [==============================] - 1s 101us/sample - loss: 7.1398 - accuracy: 0.5344\n",
      "Epoch 84/100\n",
      "5079/5079 [==============================] - 1s 100us/sample - loss: 7.1398 - accuracy: 0.5344\n",
      "Epoch 85/100\n",
      "5079/5079 [==============================] - 1s 102us/sample - loss: 7.1398 - accuracy: 0.5344\n",
      "Epoch 86/100\n",
      "5079/5079 [==============================] - 1s 101us/sample - loss: 7.1398 - accuracy: 0.5344\n",
      "Epoch 87/100\n",
      "5079/5079 [==============================] - 1s 101us/sample - loss: 7.1398 - accuracy: 0.5344\n",
      "Epoch 88/100\n",
      "5079/5079 [==============================] - 1s 101us/sample - loss: 7.1398 - accuracy: 0.5344\n",
      "Epoch 89/100\n",
      "5079/5079 [==============================] - 1s 100us/sample - loss: 7.1398 - accuracy: 0.5344\n",
      "Epoch 90/100\n",
      "5079/5079 [==============================] - 1s 101us/sample - loss: 7.1398 - accuracy: 0.5344\n",
      "Epoch 91/100\n",
      "5079/5079 [==============================] - 1s 100us/sample - loss: 7.1398 - accuracy: 0.5344\n",
      "Epoch 92/100\n",
      "5079/5079 [==============================] - 1s 101us/sample - loss: 7.1398 - accuracy: 0.5344\n",
      "Epoch 93/100\n",
      "5079/5079 [==============================] - 1s 101us/sample - loss: 7.1398 - accuracy: 0.5344\n",
      "Epoch 94/100\n",
      "5079/5079 [==============================] - 1s 101us/sample - loss: 7.1398 - accuracy: 0.5344\n",
      "Epoch 95/100\n",
      "5079/5079 [==============================] - 1s 101us/sample - loss: 7.1398 - accuracy: 0.5344\n",
      "Epoch 96/100\n",
      "5079/5079 [==============================] - 1s 101us/sample - loss: 7.1398 - accuracy: 0.5344\n",
      "Epoch 97/100\n",
      "5079/5079 [==============================] - 1s 101us/sample - loss: 7.1398 - accuracy: 0.5344\n",
      "Epoch 98/100\n",
      "5079/5079 [==============================] - 1s 101us/sample - loss: 7.1398 - accuracy: 0.5344\n",
      "Epoch 99/100\n",
      "5079/5079 [==============================] - 1s 101us/sample - loss: 7.1398 - accuracy: 0.5344\n",
      "Epoch 100/100\n",
      "5079/5079 [==============================] - 1s 101us/sample - loss: 7.1398 - accuracy: 0.5344\n"
     ]
    },
    {
     "data": {
      "text/plain": [
       "<tensorflow.python.keras.callbacks.History at 0x2033de21588>"
      ]
     },
     "execution_count": 19,
     "metadata": {},
     "output_type": "execute_result"
    }
   ],
   "source": [
    "model.compile(loss='binary_crossentropy',\n",
    "              optimizer='adam',\n",
    "              metrics=['accuracy'])\n",
    "\n",
    "model.fit(X_train_array, y_train_array, \n",
    "          batch_size=64, \n",
    "          epochs=100)"
   ]
  },
  {
   "cell_type": "code",
   "execution_count": 20,
   "metadata": {},
   "outputs": [
    {
     "name": "stdout",
     "output_type": "stream",
     "text": [
      "2503/1 - 0s - loss: 6.6243 - accuracy: 0.5645\n",
      "Test loss: 6.677279455205511\n",
      "Test accuracy: 0.56452256\n"
     ]
    }
   ],
   "source": [
    "test_scores = model.evaluate(X_test_array, y_test_array, verbose=2)\n",
    "\n",
    "print('Test loss:', test_scores[0])\n",
    "print('Test accuracy:', test_scores[1])"
   ]
  },
  {
   "cell_type": "markdown",
   "metadata": {},
   "source": [
    "Clearly the neural network did not perform as well as the other two models with an accuracy of 56%. This is likely because a single hidden layer is not enough to properly capture the underlying function governing the result of the games. "
   ]
  },
  {
   "cell_type": "markdown",
   "metadata": {},
   "source": [
    "## Improving the Models\n",
    "\n",
    "Despite the random forest and svm classifiers' already high performance, gridsearchCV will be used in an attempt to improve their accuracies. GridsearchCV will also be applied to the neural networks. "
   ]
  },
  {
   "cell_type": "markdown",
   "metadata": {},
   "source": [
    "### Grid Search"
   ]
  },
  {
   "cell_type": "code",
   "execution_count": 15,
   "metadata": {},
   "outputs": [],
   "source": [
    "from sklearn.model_selection import GridSearchCV\n",
    "\n",
    "rf_parameters = {\n",
    "    'n_estimators':[100,200,500,1000],\n",
    "    'criterion':['gini', 'entropy'],\n",
    "    'max_features':['auto', 'sqrt', 'log2', None]\n",
    "}\n",
    "\n",
    "svc_parameters = {\n",
    "    'C':[0.001, 0.01, 0.1, 1, 10],\n",
    "    'gamma': ['auto', 'scale']\n",
    "} "
   ]
  },
  {
   "cell_type": "code",
   "execution_count": 22,
   "metadata": {},
   "outputs": [
    {
     "data": {
      "text/plain": [
       "GridSearchCV(cv=3, error_score='raise-deprecating',\n",
       "             estimator=RandomForestClassifier(bootstrap=True, class_weight=None,\n",
       "                                              criterion='gini', max_depth=None,\n",
       "                                              max_features='auto',\n",
       "                                              max_leaf_nodes=None,\n",
       "                                              min_impurity_decrease=0.0,\n",
       "                                              min_impurity_split=None,\n",
       "                                              min_samples_leaf=1,\n",
       "                                              min_samples_split=2,\n",
       "                                              min_weight_fraction_leaf=0.0,\n",
       "                                              n_estimators='warn', n_jobs=None,\n",
       "                                              oob_score=False,\n",
       "                                              random_state=None, verbose=0,\n",
       "                                              warm_start=False),\n",
       "             iid='warn', n_jobs=2,\n",
       "             param_grid={'criterion': ['gini', 'entropy'],\n",
       "                         'max_features': ['auto', 'sqrt', 'log2', None],\n",
       "                         'n_estimators': [100, 200, 500, 1000]},\n",
       "             pre_dispatch='2*n_jobs', refit=True, return_train_score=False,\n",
       "             scoring=None, verbose=0)"
      ]
     },
     "execution_count": 22,
     "metadata": {},
     "output_type": "execute_result"
    }
   ],
   "source": [
    "rf = RandomForestClassifier()\n",
    "rf_clf = GridSearchCV(rf, rf_parameters, cv=3, n_jobs=2)\n",
    "rf_clf.fit(X_train, y_train)"
   ]
  },
  {
   "cell_type": "code",
   "execution_count": 23,
   "metadata": {},
   "outputs": [
    {
     "name": "stdout",
     "output_type": "stream",
     "text": [
      "Best Random Forest parameters\n",
      "{'criterion': 'entropy', 'max_features': None, 'n_estimators': 1000}\n"
     ]
    }
   ],
   "source": [
    "print(\"Best Random Forest parameters\")\n",
    "print(rf_clf.best_params_)"
   ]
  },
  {
   "cell_type": "code",
   "execution_count": 24,
   "metadata": {},
   "outputs": [
    {
     "name": "stdout",
     "output_type": "stream",
     "text": [
      "Mean accuracy of random forest: 0.9808\n"
     ]
    }
   ],
   "source": [
    "rf_clf_acc = rf_clf.score(X_test, y_test)\n",
    "\n",
    "print(f\"Mean accuracy of random forest: {rf_clf_acc:0.4}\")"
   ]
  },
  {
   "cell_type": "code",
   "execution_count": 25,
   "metadata": {},
   "outputs": [
    {
     "data": {
      "text/plain": [
       "GridSearchCV(cv=3, error_score='raise-deprecating',\n",
       "             estimator=SVC(C=1.0, cache_size=200, class_weight=None, coef0=0.0,\n",
       "                           decision_function_shape='ovr', degree=3,\n",
       "                           gamma='auto_deprecated', kernel='rbf', max_iter=-1,\n",
       "                           probability=False, random_state=None, shrinking=True,\n",
       "                           tol=0.001, verbose=False),\n",
       "             iid='warn', n_jobs=2,\n",
       "             param_grid={'C': [0.001, 0.01, 0.1, 1, 10],\n",
       "                         'gamma': ['auto', 'scale']},\n",
       "             pre_dispatch='2*n_jobs', refit=True, return_train_score=False,\n",
       "             scoring=None, verbose=0)"
      ]
     },
     "execution_count": 25,
     "metadata": {},
     "output_type": "execute_result"
    }
   ],
   "source": [
    "svc = SVC() \n",
    "svc_clf = GridSearchCV(svc, svc_parameters, cv=3, n_jobs=2)\n",
    "svc_clf.fit(X_train_ss, y_train_ss)"
   ]
  },
  {
   "cell_type": "code",
   "execution_count": 26,
   "metadata": {},
   "outputs": [
    {
     "name": "stdout",
     "output_type": "stream",
     "text": [
      "Best SVC parameters\n",
      "{'C': 10, 'gamma': 'auto'}\n"
     ]
    }
   ],
   "source": [
    "print(\"Best SVC parameters\")\n",
    "print(svc_clf.best_params_)"
   ]
  },
  {
   "cell_type": "code",
   "execution_count": 27,
   "metadata": {},
   "outputs": [
    {
     "name": "stdout",
     "output_type": "stream",
     "text": [
      "Mean Accuracy of SVC: 0.9368757491010787\n"
     ]
    }
   ],
   "source": [
    "svc_clf_acc = svc_clf.score(X_test_ss, y_test_ss)\n",
    "\n",
    "print(f\"Mean Accuracy of SVC: {svc_clf_acc}\")"
   ]
  },
  {
   "cell_type": "markdown",
   "metadata": {},
   "source": [
    "### Improving the Neural Network"
   ]
  },
  {
   "cell_type": "code",
   "execution_count": 16,
   "metadata": {},
   "outputs": [],
   "source": [
    "from tensorflow.keras.models import Sequential\n",
    "\n",
    "def create_model(optimizer='adam', dropout_rate=0.0, neurons=1):\n",
    "    \n",
    "    input_size = len(X_train_array[0])\n",
    "\n",
    "    model = Sequential()\n",
    "    model.add(layers.Dense(neurons, activation='relu', input_dim=input_size))\n",
    "    model.add(layers.Dropout(rate=dropout_rate))\n",
    "    model.add(layers.Dense(neurons, activation='relu', input_dim=input_size))\n",
    "    model.add(layers.Dropout(rate=dropout_rate))\n",
    "    model.add(layers.Dense(neurons, activation='relu', input_dim=input_size))\n",
    "    model.add(layers.Dropout(rate=dropout_rate))\n",
    "    model.add(layers.Dense(0.5*neurons, activation='relu', input_dim=input_size))\n",
    "    model.add(layers.Dropout(rate=dropout_rate))\n",
    "    model.add(layers.Dense(0.25*neurons, activation='relu', input_dim=input_size))\n",
    "    model.add(layers.Dropout(rate=dropout_rate))\n",
    "    model.add(layers.Dense(1, activation='softmax'))\n",
    "\n",
    "    model.compile(loss='binary_crossentropy',\n",
    "                  optimizer=optimizer,\n",
    "                  metrics=['accuracy'])\n",
    "    \n",
    "    return model"
   ]
  },
  {
   "cell_type": "code",
   "execution_count": 17,
   "metadata": {},
   "outputs": [
    {
     "name": "stdout",
     "output_type": "stream",
     "text": [
      "Best Model:\n",
      "acc: 0.524000013589859 using params: {'batch_size': 32, 'dropout_rate': 0.5, 'epochs': 10, 'neurons': 1000}\n"
     ]
    }
   ],
   "source": [
    "from tensorflow.keras.wrappers.scikit_learn import KerasClassifier\n",
    "\n",
    "model = KerasClassifier(build_fn=create_model, verbose=0)\n",
    "\n",
    "param_grid = {\n",
    "    'dropout_rate': [0.5, 0.2],\n",
    "    'neurons': [1000, 250],\n",
    "    'batch_size': [32, 8],\n",
    "    'epochs': [10, 100]\n",
    "}\n",
    "\n",
    "# train on a sample of training data\n",
    "X_train_cv = X_train_array[0:250]\n",
    "y_train_cv = y_train_array[0:250]\n",
    "\n",
    "grid = GridSearchCV(estimator=model, param_grid=param_grid, cv=3, n_jobs=1)\n",
    "grid_result = grid.fit(X_train_cv, y_train_cv)\n",
    "\n",
    "print(\"Best Model:\")\n",
    "print(f\"acc: {grid_result.best_score_} using params: {grid_result.best_params_}\")"
   ]
  },
  {
   "cell_type": "markdown",
   "metadata": {},
   "source": [
    "Using GridSearchCV, the Random Forest Classifier's accuracy increased from 0.9684 to 0.9812, while the Support Vector Classifier's accuracy decreased to 0.9368 from 0.9372. Due to time constraints, it is difficult to test neural network architectures, but it appears that it would require a much larger neural network in order to accurately classify the game winner based on the results of GridSearchCV. The neural network, despite having 4 additional layers, was only able to reach an accuracy of 0.524. "
   ]
  }
 ],
 "metadata": {
  "kernelspec": {
   "display_name": "Python 3",
   "language": "python",
   "name": "python3"
  },
  "language_info": {
   "codemirror_mode": {
    "name": "ipython",
    "version": 3
   },
   "file_extension": ".py",
   "mimetype": "text/x-python",
   "name": "python",
   "nbconvert_exporter": "python",
   "pygments_lexer": "ipython3",
   "version": "3.7.4"
  }
 },
 "nbformat": 4,
 "nbformat_minor": 2
}
