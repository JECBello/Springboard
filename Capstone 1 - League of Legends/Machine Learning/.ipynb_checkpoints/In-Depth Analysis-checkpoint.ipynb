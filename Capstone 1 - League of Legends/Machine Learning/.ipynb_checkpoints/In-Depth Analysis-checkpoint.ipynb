{
 "cells": [
  {
   "cell_type": "markdown",
   "metadata": {},
   "source": [
    "# Overview\n",
    "\n",
    "For the machine learning section of the Capstone, three classifiers will be compared to find which performs best. These classifiers were chosen due to their performance regarding larger datasets with many features(for this dataset: ~5k features, ~7.5k samples). The classifiers are as follows: \n",
    "\n",
    "    - Random Forest\n",
    "    - Support Vector Machine\n",
    "    - Deep Neural Network\n",
    " \n",
    "The goal of the classifiers is to predict which team will win given certain features/indicators within the game. The classifiers will be evaluated based on how many game outcomes they predicted correctly. THese results will be displayed using a confusion matrix. "
   ]
  },
  {
   "cell_type": "code",
   "execution_count": 1,
   "metadata": {},
   "outputs": [],
   "source": [
    "# Import standard packages\n",
    "import numpy as np \n",
    "import pandas as pd\n",
    "import matplotlib.pyplot as plt \n",
    "import seaborn as sns"
   ]
  },
  {
   "cell_type": "code",
   "execution_count": 2,
   "metadata": {},
   "outputs": [],
   "source": [
    "# Load wrangled dataframe\n",
    "league_wrangled = pd.read_csv(\"../Dataset/Wrangled_LeagueofLegends.csv\")"
   ]
  },
  {
   "cell_type": "code",
   "execution_count": 3,
   "metadata": {},
   "outputs": [
    {
     "data": {
      "text/html": [
       "<div>\n",
       "<style scoped>\n",
       "    .dataframe tbody tr th:only-of-type {\n",
       "        vertical-align: middle;\n",
       "    }\n",
       "\n",
       "    .dataframe tbody tr th {\n",
       "        vertical-align: top;\n",
       "    }\n",
       "\n",
       "    .dataframe thead th {\n",
       "        text-align: right;\n",
       "    }\n",
       "</style>\n",
       "<table border=\"1\" class=\"dataframe\">\n",
       "  <thead>\n",
       "    <tr style=\"text-align: right;\">\n",
       "      <th></th>\n",
       "      <th>bResult</th>\n",
       "      <th>gamelength</th>\n",
       "      <th>golddiff</th>\n",
       "      <th>goldblue</th>\n",
       "      <th>bKills</th>\n",
       "      <th>bInhibs</th>\n",
       "      <th>bBarons</th>\n",
       "      <th>bHeralds</th>\n",
       "      <th>goldred</th>\n",
       "      <th>rKills</th>\n",
       "      <th>...</th>\n",
       "      <th>bbot_base</th>\n",
       "      <th>rtop_outer</th>\n",
       "      <th>rtop_inner</th>\n",
       "      <th>rtop_base</th>\n",
       "      <th>rmiddle_outer</th>\n",
       "      <th>rmiddle_inner</th>\n",
       "      <th>rbmiddle_base</th>\n",
       "      <th>rbot_outer</th>\n",
       "      <th>rbot_inner</th>\n",
       "      <th>rbot_base</th>\n",
       "    </tr>\n",
       "  </thead>\n",
       "  <tbody>\n",
       "    <tr>\n",
       "      <th>0</th>\n",
       "      <td>1</td>\n",
       "      <td>40</td>\n",
       "      <td>4.127967e+06</td>\n",
       "      <td>3.594454e+08</td>\n",
       "      <td>16</td>\n",
       "      <td>2</td>\n",
       "      <td>0</td>\n",
       "      <td>0</td>\n",
       "      <td>2.932450e+08</td>\n",
       "      <td>9</td>\n",
       "      <td>...</td>\n",
       "      <td>0.000</td>\n",
       "      <td>15.288</td>\n",
       "      <td>39.23</td>\n",
       "      <td>0.0</td>\n",
       "      <td>20.681</td>\n",
       "      <td>0.000</td>\n",
       "      <td>0.000</td>\n",
       "      <td>17.237</td>\n",
       "      <td>0.0</td>\n",
       "      <td>0.0</td>\n",
       "    </tr>\n",
       "    <tr>\n",
       "      <th>1</th>\n",
       "      <td>0</td>\n",
       "      <td>38</td>\n",
       "      <td>9.550643e+05</td>\n",
       "      <td>2.983951e+08</td>\n",
       "      <td>10</td>\n",
       "      <td>0</td>\n",
       "      <td>1</td>\n",
       "      <td>0</td>\n",
       "      <td>2.739425e+08</td>\n",
       "      <td>9</td>\n",
       "      <td>...</td>\n",
       "      <td>0.000</td>\n",
       "      <td>23.409</td>\n",
       "      <td>0.00</td>\n",
       "      <td>0.0</td>\n",
       "      <td>19.257</td>\n",
       "      <td>29.799</td>\n",
       "      <td>29.993</td>\n",
       "      <td>15.206</td>\n",
       "      <td>0.0</td>\n",
       "      <td>0.0</td>\n",
       "    </tr>\n",
       "    <tr>\n",
       "      <th>2</th>\n",
       "      <td>1</td>\n",
       "      <td>40</td>\n",
       "      <td>1.647345e+07</td>\n",
       "      <td>4.426966e+08</td>\n",
       "      <td>22</td>\n",
       "      <td>4</td>\n",
       "      <td>1</td>\n",
       "      <td>0</td>\n",
       "      <td>2.926390e+08</td>\n",
       "      <td>8</td>\n",
       "      <td>...</td>\n",
       "      <td>37.109</td>\n",
       "      <td>30.493</td>\n",
       "      <td>0.00</td>\n",
       "      <td>0.0</td>\n",
       "      <td>24.620</td>\n",
       "      <td>0.000</td>\n",
       "      <td>0.000</td>\n",
       "      <td>0.000</td>\n",
       "      <td>0.0</td>\n",
       "      <td>0.0</td>\n",
       "    </tr>\n",
       "    <tr>\n",
       "      <th>3</th>\n",
       "      <td>0</td>\n",
       "      <td>41</td>\n",
       "      <td>3.315823e+06</td>\n",
       "      <td>2.912887e+08</td>\n",
       "      <td>10</td>\n",
       "      <td>0</td>\n",
       "      <td>1</td>\n",
       "      <td>0</td>\n",
       "      <td>3.329506e+08</td>\n",
       "      <td>21</td>\n",
       "      <td>...</td>\n",
       "      <td>0.000</td>\n",
       "      <td>20.760</td>\n",
       "      <td>0.00</td>\n",
       "      <td>0.0</td>\n",
       "      <td>19.122</td>\n",
       "      <td>27.034</td>\n",
       "      <td>31.665</td>\n",
       "      <td>29.969</td>\n",
       "      <td>0.0</td>\n",
       "      <td>0.0</td>\n",
       "    </tr>\n",
       "    <tr>\n",
       "      <th>4</th>\n",
       "      <td>1</td>\n",
       "      <td>35</td>\n",
       "      <td>8.653433e+06</td>\n",
       "      <td>2.863538e+08</td>\n",
       "      <td>22</td>\n",
       "      <td>1</td>\n",
       "      <td>1</td>\n",
       "      <td>0</td>\n",
       "      <td>2.126620e+08</td>\n",
       "      <td>10</td>\n",
       "      <td>...</td>\n",
       "      <td>33.925</td>\n",
       "      <td>15.252</td>\n",
       "      <td>0.00</td>\n",
       "      <td>0.0</td>\n",
       "      <td>11.644</td>\n",
       "      <td>31.490</td>\n",
       "      <td>0.000</td>\n",
       "      <td>12.438</td>\n",
       "      <td>0.0</td>\n",
       "      <td>0.0</td>\n",
       "    </tr>\n",
       "  </tbody>\n",
       "</table>\n",
       "<p>5 rows × 5720 columns</p>\n",
       "</div>"
      ],
      "text/plain": [
       "   bResult  gamelength      golddiff      goldblue  bKills  bInhibs  bBarons  \\\n",
       "0        1          40  4.127967e+06  3.594454e+08      16        2        0   \n",
       "1        0          38  9.550643e+05  2.983951e+08      10        0        1   \n",
       "2        1          40  1.647345e+07  4.426966e+08      22        4        1   \n",
       "3        0          41  3.315823e+06  2.912887e+08      10        0        1   \n",
       "4        1          35  8.653433e+06  2.863538e+08      22        1        1   \n",
       "\n",
       "   bHeralds       goldred  rKills  ...  bbot_base  rtop_outer  rtop_inner  \\\n",
       "0         0  2.932450e+08       9  ...      0.000      15.288       39.23   \n",
       "1         0  2.739425e+08       9  ...      0.000      23.409        0.00   \n",
       "2         0  2.926390e+08       8  ...     37.109      30.493        0.00   \n",
       "3         0  3.329506e+08      21  ...      0.000      20.760        0.00   \n",
       "4         0  2.126620e+08      10  ...     33.925      15.252        0.00   \n",
       "\n",
       "   rtop_base  rmiddle_outer  rmiddle_inner  rbmiddle_base  rbot_outer  \\\n",
       "0        0.0         20.681          0.000          0.000      17.237   \n",
       "1        0.0         19.257         29.799         29.993      15.206   \n",
       "2        0.0         24.620          0.000          0.000       0.000   \n",
       "3        0.0         19.122         27.034         31.665      29.969   \n",
       "4        0.0         11.644         31.490          0.000      12.438   \n",
       "\n",
       "   rbot_inner  rbot_base  \n",
       "0         0.0        0.0  \n",
       "1         0.0        0.0  \n",
       "2         0.0        0.0  \n",
       "3         0.0        0.0  \n",
       "4         0.0        0.0  \n",
       "\n",
       "[5 rows x 5720 columns]"
      ]
     },
     "execution_count": 3,
     "metadata": {},
     "output_type": "execute_result"
    }
   ],
   "source": [
    "# View dataframe\n",
    "league_wrangled.head()"
   ]
  },
  {
   "cell_type": "code",
   "execution_count": 4,
   "metadata": {},
   "outputs": [],
   "source": [
    "# Seperate labels from training data\n",
    "result = league_wrangled.pop('bResult')"
   ]
  },
  {
   "cell_type": "code",
   "execution_count": 5,
   "metadata": {},
   "outputs": [
    {
     "data": {
      "text/html": [
       "<div>\n",
       "<style scoped>\n",
       "    .dataframe tbody tr th:only-of-type {\n",
       "        vertical-align: middle;\n",
       "    }\n",
       "\n",
       "    .dataframe tbody tr th {\n",
       "        vertical-align: top;\n",
       "    }\n",
       "\n",
       "    .dataframe thead th {\n",
       "        text-align: right;\n",
       "    }\n",
       "</style>\n",
       "<table border=\"1\" class=\"dataframe\">\n",
       "  <thead>\n",
       "    <tr style=\"text-align: right;\">\n",
       "      <th></th>\n",
       "      <th>gamelength</th>\n",
       "      <th>golddiff</th>\n",
       "      <th>goldblue</th>\n",
       "      <th>bKills</th>\n",
       "      <th>bInhibs</th>\n",
       "      <th>bBarons</th>\n",
       "      <th>bHeralds</th>\n",
       "      <th>goldred</th>\n",
       "      <th>rKills</th>\n",
       "      <th>rInhibs</th>\n",
       "      <th>...</th>\n",
       "      <th>bbot_base</th>\n",
       "      <th>rtop_outer</th>\n",
       "      <th>rtop_inner</th>\n",
       "      <th>rtop_base</th>\n",
       "      <th>rmiddle_outer</th>\n",
       "      <th>rmiddle_inner</th>\n",
       "      <th>rbmiddle_base</th>\n",
       "      <th>rbot_outer</th>\n",
       "      <th>rbot_inner</th>\n",
       "      <th>rbot_base</th>\n",
       "    </tr>\n",
       "  </thead>\n",
       "  <tbody>\n",
       "    <tr>\n",
       "      <th>0</th>\n",
       "      <td>40</td>\n",
       "      <td>4.127967e+06</td>\n",
       "      <td>3.594454e+08</td>\n",
       "      <td>16</td>\n",
       "      <td>2</td>\n",
       "      <td>0</td>\n",
       "      <td>0</td>\n",
       "      <td>2.932450e+08</td>\n",
       "      <td>9</td>\n",
       "      <td>0</td>\n",
       "      <td>...</td>\n",
       "      <td>0.000</td>\n",
       "      <td>15.288</td>\n",
       "      <td>39.23</td>\n",
       "      <td>0.0</td>\n",
       "      <td>20.681</td>\n",
       "      <td>0.000</td>\n",
       "      <td>0.000</td>\n",
       "      <td>17.237</td>\n",
       "      <td>0.0</td>\n",
       "      <td>0.0</td>\n",
       "    </tr>\n",
       "    <tr>\n",
       "      <th>1</th>\n",
       "      <td>38</td>\n",
       "      <td>9.550643e+05</td>\n",
       "      <td>2.983951e+08</td>\n",
       "      <td>10</td>\n",
       "      <td>0</td>\n",
       "      <td>1</td>\n",
       "      <td>0</td>\n",
       "      <td>2.739425e+08</td>\n",
       "      <td>9</td>\n",
       "      <td>1</td>\n",
       "      <td>...</td>\n",
       "      <td>0.000</td>\n",
       "      <td>23.409</td>\n",
       "      <td>0.00</td>\n",
       "      <td>0.0</td>\n",
       "      <td>19.257</td>\n",
       "      <td>29.799</td>\n",
       "      <td>29.993</td>\n",
       "      <td>15.206</td>\n",
       "      <td>0.0</td>\n",
       "      <td>0.0</td>\n",
       "    </tr>\n",
       "    <tr>\n",
       "      <th>2</th>\n",
       "      <td>40</td>\n",
       "      <td>1.647345e+07</td>\n",
       "      <td>4.426966e+08</td>\n",
       "      <td>22</td>\n",
       "      <td>4</td>\n",
       "      <td>1</td>\n",
       "      <td>0</td>\n",
       "      <td>2.926390e+08</td>\n",
       "      <td>8</td>\n",
       "      <td>0</td>\n",
       "      <td>...</td>\n",
       "      <td>37.109</td>\n",
       "      <td>30.493</td>\n",
       "      <td>0.00</td>\n",
       "      <td>0.0</td>\n",
       "      <td>24.620</td>\n",
       "      <td>0.000</td>\n",
       "      <td>0.000</td>\n",
       "      <td>0.000</td>\n",
       "      <td>0.0</td>\n",
       "      <td>0.0</td>\n",
       "    </tr>\n",
       "    <tr>\n",
       "      <th>3</th>\n",
       "      <td>41</td>\n",
       "      <td>3.315823e+06</td>\n",
       "      <td>2.912887e+08</td>\n",
       "      <td>10</td>\n",
       "      <td>0</td>\n",
       "      <td>1</td>\n",
       "      <td>0</td>\n",
       "      <td>3.329506e+08</td>\n",
       "      <td>21</td>\n",
       "      <td>1</td>\n",
       "      <td>...</td>\n",
       "      <td>0.000</td>\n",
       "      <td>20.760</td>\n",
       "      <td>0.00</td>\n",
       "      <td>0.0</td>\n",
       "      <td>19.122</td>\n",
       "      <td>27.034</td>\n",
       "      <td>31.665</td>\n",
       "      <td>29.969</td>\n",
       "      <td>0.0</td>\n",
       "      <td>0.0</td>\n",
       "    </tr>\n",
       "    <tr>\n",
       "      <th>4</th>\n",
       "      <td>35</td>\n",
       "      <td>8.653433e+06</td>\n",
       "      <td>2.863538e+08</td>\n",
       "      <td>22</td>\n",
       "      <td>1</td>\n",
       "      <td>1</td>\n",
       "      <td>0</td>\n",
       "      <td>2.126620e+08</td>\n",
       "      <td>10</td>\n",
       "      <td>0</td>\n",
       "      <td>...</td>\n",
       "      <td>33.925</td>\n",
       "      <td>15.252</td>\n",
       "      <td>0.00</td>\n",
       "      <td>0.0</td>\n",
       "      <td>11.644</td>\n",
       "      <td>31.490</td>\n",
       "      <td>0.000</td>\n",
       "      <td>12.438</td>\n",
       "      <td>0.0</td>\n",
       "      <td>0.0</td>\n",
       "    </tr>\n",
       "  </tbody>\n",
       "</table>\n",
       "<p>5 rows × 5719 columns</p>\n",
       "</div>"
      ],
      "text/plain": [
       "   gamelength      golddiff      goldblue  bKills  bInhibs  bBarons  bHeralds  \\\n",
       "0          40  4.127967e+06  3.594454e+08      16        2        0         0   \n",
       "1          38  9.550643e+05  2.983951e+08      10        0        1         0   \n",
       "2          40  1.647345e+07  4.426966e+08      22        4        1         0   \n",
       "3          41  3.315823e+06  2.912887e+08      10        0        1         0   \n",
       "4          35  8.653433e+06  2.863538e+08      22        1        1         0   \n",
       "\n",
       "        goldred  rKills  rInhibs  ...  bbot_base  rtop_outer  rtop_inner  \\\n",
       "0  2.932450e+08       9        0  ...      0.000      15.288       39.23   \n",
       "1  2.739425e+08       9        1  ...      0.000      23.409        0.00   \n",
       "2  2.926390e+08       8        0  ...     37.109      30.493        0.00   \n",
       "3  3.329506e+08      21        1  ...      0.000      20.760        0.00   \n",
       "4  2.126620e+08      10        0  ...     33.925      15.252        0.00   \n",
       "\n",
       "   rtop_base  rmiddle_outer  rmiddle_inner  rbmiddle_base  rbot_outer  \\\n",
       "0        0.0         20.681          0.000          0.000      17.237   \n",
       "1        0.0         19.257         29.799         29.993      15.206   \n",
       "2        0.0         24.620          0.000          0.000       0.000   \n",
       "3        0.0         19.122         27.034         31.665      29.969   \n",
       "4        0.0         11.644         31.490          0.000      12.438   \n",
       "\n",
       "   rbot_inner  rbot_base  \n",
       "0         0.0        0.0  \n",
       "1         0.0        0.0  \n",
       "2         0.0        0.0  \n",
       "3         0.0        0.0  \n",
       "4         0.0        0.0  \n",
       "\n",
       "[5 rows x 5719 columns]"
      ]
     },
     "execution_count": 5,
     "metadata": {},
     "output_type": "execute_result"
    }
   ],
   "source": [
    "league_wrangled.head()"
   ]
  },
  {
   "cell_type": "markdown",
   "metadata": {},
   "source": [
    "## Random Forest \n",
    "\n",
    "Random forest classifiers are made of an ensemble of decision trees. Decision trees work by seperating the data such that the homogeneity of the splits are maximized. These decision trees all return a classification, and the classification that appears most frequently is considered the final classification by the random forest. \n",
    "\n",
    "The random forest algorithm can easily be implemented using the Scikit-Learn Package. Because we are trying to predict between two classes (Blue team win, or Red team win), the RandomForestClassifier class will be used. "
   ]
  },
  {
   "cell_type": "code",
   "execution_count": 6,
   "metadata": {},
   "outputs": [
    {
     "name": "stdout",
     "output_type": "stream",
     "text": [
      "Training Features Shape: (5079, 5719)\n",
      "Training Labels Shape: (5079,)\n",
      "Testing Features Shape: (2503, 5719)\n",
      "Testing Labels Shape: (2503,)\n"
     ]
    }
   ],
   "source": [
    "# First split the data into training and testing sets\n",
    "from sklearn.model_selection import train_test_split\n",
    "\n",
    "X_train, X_test, y_train, y_test = train_test_split(league_wrangled, result, \n",
    "                                                    test_size=0.33, random_state=42)\n",
    "\n",
    "\n",
    "print('Training Features Shape:', X_train.shape)\n",
    "print('Training Labels Shape:', y_train.shape)\n",
    "print('Testing Features Shape:', X_test.shape)\n",
    "print('Testing Labels Shape:', y_test.shape)"
   ]
  },
  {
   "cell_type": "code",
   "execution_count": 7,
   "metadata": {},
   "outputs": [
    {
     "data": {
      "text/plain": [
       "RandomForestClassifier(bootstrap=True, class_weight=None, criterion='gini',\n",
       "            max_depth=None, max_features='auto', max_leaf_nodes=None,\n",
       "            min_impurity_decrease=0.0, min_impurity_split=None,\n",
       "            min_samples_leaf=1, min_samples_split=2,\n",
       "            min_weight_fraction_leaf=0.0, n_estimators=1000, n_jobs=None,\n",
       "            oob_score=False, random_state=42, verbose=0, warm_start=False)"
      ]
     },
     "execution_count": 7,
     "metadata": {},
     "output_type": "execute_result"
    }
   ],
   "source": [
    "# Import the Random Forest classifier\n",
    "from sklearn.ensemble import RandomForestClassifier\n",
    "\n",
    "rf = RandomForestClassifier(n_estimators=1000, random_state=42)\n",
    "rf.fit(X_train, y_train)"
   ]
  },
  {
   "cell_type": "code",
   "execution_count": 8,
   "metadata": {},
   "outputs": [
    {
     "name": "stdout",
     "output_type": "stream",
     "text": [
      "Mean accuracy of random forest: 0.9684\n"
     ]
    }
   ],
   "source": [
    "# Evaluate Random Forest \n",
    "rf_acc = rf.score(X_test, y_test)\n",
    "\n",
    "print(f\"Mean accuracy of random forest: {rf_acc:0.4}\")"
   ]
  },
  {
   "cell_type": "code",
   "execution_count": 9,
   "metadata": {},
   "outputs": [
    {
     "name": "stdout",
     "output_type": "stream",
     "text": [
      "              precision    recall  f1-score   support\n",
      "\n",
      "           0       0.96      0.97      0.96      1090\n",
      "           1       0.98      0.97      0.97      1413\n",
      "\n",
      "   micro avg       0.97      0.97      0.97      2503\n",
      "   macro avg       0.97      0.97      0.97      2503\n",
      "weighted avg       0.97      0.97      0.97      2503\n",
      "\n"
     ]
    },
    {
     "data": {
      "image/png": "[encoded data removed]",
      "text/plain": [
       "<Figure size 576x360 with 1 Axes>"
      ]
     },
     "metadata": {
      "needs_background": "light"
     },
     "output_type": "display_data"
    }
   ],
   "source": [
    "# Display classification report and confusino matrix\n",
    "from sklearn.metrics import classification_report, confusion_matrix\n",
    "\n",
    "predictions = rf.predict(X_test)\n",
    "\n",
    "# Classification Report\n",
    "print(classification_report(y_test, predictions))\n",
    "\n",
    "# Confusion Matrix\n",
    "conf_mat = confusion_matrix(y_test, predictions)\n",
    "fig, ax = plt.subplots(figsize=(8,5))\n",
    "sns.heatmap(conf_mat, annot=True, annot_kws={'size':15}, fmt='g', linewidth=0.75, cbar=False, cmap=\"Blues\",\n",
    "            xticklabels=['Red Team Win', 'Blue Team Win'])\n",
    "\n",
    "ax.set_title(\"Confusion Matrix\", size=15)\n",
    "plt.yticks([0.5,1.5], ['Red Team Win', 'Blue Team Win'], va='center');"
   ]
  },
  {
   "cell_type": "markdown",
   "metadata": {},
   "source": [
    "### Feature Importance\n",
    "\n",
    "In order to see which features were the most influential in determining who would win, the variable importances will be inspected."
   ]
  },
  {
   "cell_type": "code",
   "execution_count": 10,
   "metadata": {},
   "outputs": [
    {
     "name": "stdout",
     "output_type": "stream",
     "text": [
      "Variable: bInhibs              Importance: 0.0745\n",
      "Variable: rInhibs              Importance: 0.06558\n",
      "Variable: rmiddle_inner        Importance: 0.04422\n",
      "Variable: bbmiddle_base        Importance: 0.04298\n",
      "Variable: rbmiddle_base        Importance: 0.04043\n",
      "Variable: bmiddle_inner        Importance: 0.04002\n",
      "Variable: rKills               Importance: 0.0329\n",
      "Variable: rBarons              Importance: 0.03133\n",
      "Variable: rbot_inner           Importance: 0.02718\n",
      "Variable: bKills               Importance: 0.02693\n",
      "Variable: bBarons              Importance: 0.02635\n",
      "Variable: rtop_inner           Importance: 0.02596\n",
      "Variable: bbot_inner           Importance: 0.02577\n",
      "Variable: btop_inner           Importance: 0.02484\n",
      "Variable: rbot_base            Importance: 0.02364\n",
      "Variable: bbot_base            Importance: 0.0204\n",
      "Variable: num_of_drags         Importance: 0.01985\n",
      "Variable: rtop_base            Importance: 0.01844\n",
      "Variable: btop_base            Importance: 0.01509\n",
      "Variable: rmiddle_outer        Importance: 0.01455\n",
      "Variable: goldredSupport       Importance: 0.01453\n",
      "Variable: goldredADC           Importance: 0.01144\n",
      "Variable: bmiddle_outer        Importance: 0.01116\n",
      "Variable: goldred              Importance: 0.01106\n",
      "Variable: goldblue             Importance: 0.01077\n",
      "Variable: goldredJungle        Importance: 0.01031\n",
      "Variable: rtop_outer           Importance: 0.00955\n",
      "Variable: goldblueSupport      Importance: 0.00919\n",
      "Variable: goldblueMiddle       Importance: 0.00871\n",
      "Variable: goldblueJungle       Importance: 0.00848\n",
      "Variable: goldredMiddle        Importance: 0.00846\n",
      "Variable: goldblueADC          Importance: 0.00836\n",
      "Variable: goldredTop           Importance: 0.00818\n",
      "Variable: rbot_outer           Importance: 0.00763\n",
      "Variable: btop_outer           Importance: 0.00756\n"
     ]
    }
   ],
   "source": [
    "# Get numerical feature importances\n",
    "importances = list(rf.feature_importances_)\n",
    "# List of tuples with variable and importance\n",
    "feature_importances = [(feature, round(importance, 5)) for feature, importance in zip(league_wrangled.columns, importances)]\n",
    "# Sort the feature importances by most important first\n",
    "feature_importances = sorted(feature_importances, key = lambda x: x[1], reverse = True)\n",
    "# Print out the feature and importances \n",
    "[print(f'Variable: {pair[0]:20} Importance: {pair[1]}') for pair in feature_importances[:35]];"
   ]
  },
  {
   "cell_type": "markdown",
   "metadata": {},
   "source": [
    "Based on the feature importances, it is clear that the most important features are the number of inhibtors taken by each team. Afterwards, the inner and base towers are the most significant. Based on the values, it is clear that games are not decided by a single feature alone, but rather a combination of multiple features.  "
   ]
  },
  {
   "cell_type": "markdown",
   "metadata": {},
   "source": [
    "## Suppot Vector Machine (SVM)\n",
    "\n",
    "A SVM is a classifier that seperates the data points using hyperplanes. Hyperplanes are calculated by maximizing the distance between support vectors and the hyperplane. SVMs take advantage of the kernel trick in order to model nonlinear features. Their advantages include: \n",
    "\n",
    "- Performs well for high-dimensional data\n",
    "- Useful when classes are seperable \n",
    "- Suited for binary classification\n",
    "\n",
    "All of these advantages are applicable to the wrangled league of legends dataset. With regards to the SVM's disadvantages, these include: \n",
    "\n",
    "- Requires a large amount of processing time for large datasets\n",
    "- Does not perform well on overlapping classes\n",
    "- Can be difficult selecting the proper kernel function "
   ]
  },
  {
   "cell_type": "code",
   "execution_count": 11,
   "metadata": {},
   "outputs": [
    {
     "name": "stderr",
     "output_type": "stream",
     "text": [
      "C:\\Users\\johne\\AppData\\Local\\Continuum\\anaconda3\\lib\\site-packages\\sklearn\\preprocessing\\data.py:645: DataConversionWarning: Data with input dtype int64, float64 were all converted to float64 by StandardScaler.\n",
      "  return self.partial_fit(X, y)\n",
      "C:\\Users\\johne\\AppData\\Local\\Continuum\\anaconda3\\lib\\site-packages\\sklearn\\base.py:464: DataConversionWarning: Data with input dtype int64, float64 were all converted to float64 by StandardScaler.\n",
      "  return self.fit(X, **fit_params).transform(X)\n"
     ]
    }
   ],
   "source": [
    "# Import StandardScaler  \n",
    "from sklearn.preprocessing import StandardScaler\n",
    "\n",
    "league_ss = league_wrangled.copy()\n",
    "ss = StandardScaler() \n",
    "league_ss = ss.fit_transform(league_ss)"
   ]
  },
  {
   "cell_type": "code",
   "execution_count": 12,
   "metadata": {},
   "outputs": [],
   "source": [
    "# Split data into training and testing sets\n",
    "X_train, X_test, y_train, y_test = train_test_split(league_ss, result, \n",
    "                                                    test_size=0.33, random_state=42)"
   ]
  },
  {
   "cell_type": "code",
   "execution_count": 13,
   "metadata": {},
   "outputs": [
    {
     "data": {
      "text/plain": [
       "SVC(C=1.0, cache_size=200, class_weight=None, coef0=0.0,\n",
       "  decision_function_shape='ovr', degree=3, gamma='scale', kernel='rbf',\n",
       "  max_iter=-1, probability=False, random_state=None, shrinking=True,\n",
       "  tol=0.001, verbose=False)"
      ]
     },
     "execution_count": 13,
     "metadata": {},
     "output_type": "execute_result"
    }
   ],
   "source": [
    "# Import SVM\n",
    "from sklearn.svm import SVC\n",
    "\n",
    "svc = SVC(gamma=\"scale\") \n",
    "svc.fit(X_train, y_train)"
   ]
  },
  {
   "cell_type": "code",
   "execution_count": 14,
   "metadata": {},
   "outputs": [
    {
     "name": "stdout",
     "output_type": "stream",
     "text": [
      "Mean Accuracy of SVC: 0.9372752696763883\n"
     ]
    }
   ],
   "source": [
    "svc_acc = svc.score(X_test, y_test)\n",
    "\n",
    "print(f\"Mean Accuracy of SVC: {svc_acc}\")"
   ]
  },
  {
   "cell_type": "markdown",
   "metadata": {},
   "source": [
    "## Deep Neural Network \n",
    "\n",
    "Neural networks are modeled after the way neurons are structured. They are able to learn complex relationships and functions through the adjustment of weights by gradient descent. Simply put, they learn by reducing the error between the predicted value/class and the actual value/class.\n",
    "\n",
    "Because of the nature of neural networks, a simple neural network will be constructed using a single hidden layer. The layer will have half the number of features, will a final single output neuron. Additionally dropout will be used. "
   ]
  },
  {
   "cell_type": "code",
   "execution_count": 15,
   "metadata": {},
   "outputs": [],
   "source": [
    "# Transform inputs \n",
    "X_train_array = np.asarray(X_train)\n",
    "y_train_array = np.asarray(y_train)\n",
    "\n",
    "X_test_array = np.asarray(X_test)\n",
    "y_test_array = np.asarray(y_test)"
   ]
  },
  {
   "cell_type": "code",
   "execution_count": 22,
   "metadata": {},
   "outputs": [],
   "source": [
    "import tensorflow as tf\n",
    "from tensorflow import keras \n",
    "from tensorflow.keras import layers\n",
    "\n",
    "input_size = len(X_train_array[0])\n",
    "inputs = keras.Input(shape=(input_size, )) \n",
    "dense = layers.Dense(0.5*input_size, activation='relu')(inputs)\n",
    "output = layers.Dense(1, activation='softmax')(dense)\n",
    "\n",
    "model = keras.Model(inputs=inputs, outputs=output, name='base_league_model')"
   ]
  },
  {
   "cell_type": "code",
   "execution_count": 23,
   "metadata": {},
   "outputs": [
    {
     "name": "stdout",
     "output_type": "stream",
     "text": [
      "Model: \"base_league_model\"\n",
      "_________________________________________________________________\n",
      "Layer (type)                 Output Shape              Param #   \n",
      "=================================================================\n",
      "input_2 (InputLayer)         [(None, 5719)]            0         \n",
      "_________________________________________________________________\n",
      "dense_2 (Dense)              (None, 2859)              16353480  \n",
      "_________________________________________________________________\n",
      "dense_3 (Dense)              (None, 1)                 2860      \n",
      "=================================================================\n",
      "Total params: 16,356,340\n",
      "Trainable params: 16,356,340\n",
      "Non-trainable params: 0\n",
      "_________________________________________________________________\n"
     ]
    }
   ],
   "source": [
    "model.summary()"
   ]
  },
  {
   "cell_type": "code",
   "execution_count": 26,
   "metadata": {},
   "outputs": [
    {
     "ename": "InvocationException",
     "evalue": "GraphViz's executables not found",
     "output_type": "error",
     "traceback": [
      "\u001b[1;31m---------------------------------------------------------------------------\u001b[0m",
      "\u001b[1;31mInvocationException\u001b[0m                       Traceback (most recent call last)",
      "\u001b[1;32m<ipython-input-26-63447aeb9bfe>\u001b[0m in \u001b[0;36m<module>\u001b[1;34m\u001b[0m\n\u001b[1;32m----> 1\u001b[1;33m \u001b[0mkeras\u001b[0m\u001b[1;33m.\u001b[0m\u001b[0mutils\u001b[0m\u001b[1;33m.\u001b[0m\u001b[0mplot_model\u001b[0m\u001b[1;33m(\u001b[0m\u001b[0mmodel\u001b[0m\u001b[1;33m,\u001b[0m \u001b[1;34m'base_league_model.png'\u001b[0m\u001b[1;33m,\u001b[0m \u001b[0mshow_shapes\u001b[0m\u001b[1;33m=\u001b[0m\u001b[1;32mTrue\u001b[0m\u001b[1;33m)\u001b[0m\u001b[1;33m\u001b[0m\u001b[1;33m\u001b[0m\u001b[0m\n\u001b[0m",
      "\u001b[1;32m~\\AppData\\Local\\Continuum\\anaconda3\\lib\\site-packages\\tensorflow_core\\python\\keras\\utils\\vis_utils.py\u001b[0m in \u001b[0;36mplot_model\u001b[1;34m(model, to_file, show_shapes, show_layer_names, rankdir, expand_nested, dpi)\u001b[0m\n\u001b[0;32m    281\u001b[0m                      \u001b[0mrankdir\u001b[0m\u001b[1;33m=\u001b[0m\u001b[0mrankdir\u001b[0m\u001b[1;33m,\u001b[0m\u001b[1;33m\u001b[0m\u001b[1;33m\u001b[0m\u001b[0m\n\u001b[0;32m    282\u001b[0m                      \u001b[0mexpand_nested\u001b[0m\u001b[1;33m=\u001b[0m\u001b[0mexpand_nested\u001b[0m\u001b[1;33m,\u001b[0m\u001b[1;33m\u001b[0m\u001b[1;33m\u001b[0m\u001b[0m\n\u001b[1;32m--> 283\u001b[1;33m                      dpi=dpi)\n\u001b[0m\u001b[0;32m    284\u001b[0m   \u001b[1;32mif\u001b[0m \u001b[0mdot\u001b[0m \u001b[1;32mis\u001b[0m \u001b[1;32mNone\u001b[0m\u001b[1;33m:\u001b[0m\u001b[1;33m\u001b[0m\u001b[1;33m\u001b[0m\u001b[0m\n\u001b[0;32m    285\u001b[0m     \u001b[1;32mreturn\u001b[0m\u001b[1;33m\u001b[0m\u001b[1;33m\u001b[0m\u001b[0m\n",
      "\u001b[1;32m~\\AppData\\Local\\Continuum\\anaconda3\\lib\\site-packages\\tensorflow_core\\python\\keras\\utils\\vis_utils.py\u001b[0m in \u001b[0;36mmodel_to_dot\u001b[1;34m(model, show_shapes, show_layer_names, rankdir, expand_nested, dpi, subgraph)\u001b[0m\n\u001b[0;32m    100\u001b[0m   \u001b[1;32mfrom\u001b[0m \u001b[0mtensorflow\u001b[0m\u001b[1;33m.\u001b[0m\u001b[0mpython\u001b[0m\u001b[1;33m.\u001b[0m\u001b[0mkeras\u001b[0m\u001b[1;33m.\u001b[0m\u001b[0mengine\u001b[0m \u001b[1;32mimport\u001b[0m \u001b[0mnetwork\u001b[0m\u001b[1;33m\u001b[0m\u001b[1;33m\u001b[0m\u001b[0m\n\u001b[0;32m    101\u001b[0m \u001b[1;33m\u001b[0m\u001b[0m\n\u001b[1;32m--> 102\u001b[1;33m   \u001b[1;32mif\u001b[0m \u001b[1;32mnot\u001b[0m \u001b[0mcheck_pydot\u001b[0m\u001b[1;33m(\u001b[0m\u001b[1;33m)\u001b[0m\u001b[1;33m:\u001b[0m\u001b[1;33m\u001b[0m\u001b[1;33m\u001b[0m\u001b[0m\n\u001b[0m\u001b[0;32m    103\u001b[0m     \u001b[1;32mif\u001b[0m \u001b[1;34m'IPython.core.magics.namespace'\u001b[0m \u001b[1;32min\u001b[0m \u001b[0msys\u001b[0m\u001b[1;33m.\u001b[0m\u001b[0mmodules\u001b[0m\u001b[1;33m:\u001b[0m\u001b[1;33m\u001b[0m\u001b[1;33m\u001b[0m\u001b[0m\n\u001b[0;32m    104\u001b[0m       \u001b[1;31m# We don't raise an exception here in order to avoid crashing notebook\u001b[0m\u001b[1;33m\u001b[0m\u001b[1;33m\u001b[0m\u001b[1;33m\u001b[0m\u001b[0m\n",
      "\u001b[1;32m~\\AppData\\Local\\Continuum\\anaconda3\\lib\\site-packages\\tensorflow_core\\python\\keras\\utils\\vis_utils.py\u001b[0m in \u001b[0;36mcheck_pydot\u001b[1;34m()\u001b[0m\n\u001b[0;32m     48\u001b[0m     \u001b[1;31m# Attempt to create an image of a blank graph\u001b[0m\u001b[1;33m\u001b[0m\u001b[1;33m\u001b[0m\u001b[1;33m\u001b[0m\u001b[0m\n\u001b[0;32m     49\u001b[0m     \u001b[1;31m# to check the pydot/graphviz installation.\u001b[0m\u001b[1;33m\u001b[0m\u001b[1;33m\u001b[0m\u001b[1;33m\u001b[0m\u001b[0m\n\u001b[1;32m---> 50\u001b[1;33m     \u001b[0mpydot\u001b[0m\u001b[1;33m.\u001b[0m\u001b[0mDot\u001b[0m\u001b[1;33m.\u001b[0m\u001b[0mcreate\u001b[0m\u001b[1;33m(\u001b[0m\u001b[0mpydot\u001b[0m\u001b[1;33m.\u001b[0m\u001b[0mDot\u001b[0m\u001b[1;33m(\u001b[0m\u001b[1;33m)\u001b[0m\u001b[1;33m)\u001b[0m\u001b[1;33m\u001b[0m\u001b[1;33m\u001b[0m\u001b[0m\n\u001b[0m\u001b[0;32m     51\u001b[0m     \u001b[1;32mreturn\u001b[0m \u001b[1;32mTrue\u001b[0m\u001b[1;33m\u001b[0m\u001b[1;33m\u001b[0m\u001b[0m\n\u001b[0;32m     52\u001b[0m   \u001b[1;32mexcept\u001b[0m \u001b[0mOSError\u001b[0m\u001b[1;33m:\u001b[0m\u001b[1;33m\u001b[0m\u001b[1;33m\u001b[0m\u001b[0m\n",
      "\u001b[1;32m~\\AppData\\Local\\Continuum\\anaconda3\\lib\\site-packages\\pydotplus\\graphviz.py\u001b[0m in \u001b[0;36mcreate\u001b[1;34m(self, prog, format)\u001b[0m\n\u001b[0;32m   1958\u001b[0m             \u001b[1;32mif\u001b[0m \u001b[0mself\u001b[0m\u001b[1;33m.\u001b[0m\u001b[0mprogs\u001b[0m \u001b[1;32mis\u001b[0m \u001b[1;32mNone\u001b[0m\u001b[1;33m:\u001b[0m\u001b[1;33m\u001b[0m\u001b[1;33m\u001b[0m\u001b[0m\n\u001b[0;32m   1959\u001b[0m                 raise InvocationException(\n\u001b[1;32m-> 1960\u001b[1;33m                     'GraphViz\\'s executables not found')\n\u001b[0m\u001b[0;32m   1961\u001b[0m \u001b[1;33m\u001b[0m\u001b[0m\n\u001b[0;32m   1962\u001b[0m         \u001b[1;32mif\u001b[0m \u001b[0mprog\u001b[0m \u001b[1;32mnot\u001b[0m \u001b[1;32min\u001b[0m \u001b[0mself\u001b[0m\u001b[1;33m.\u001b[0m\u001b[0mprogs\u001b[0m\u001b[1;33m:\u001b[0m\u001b[1;33m\u001b[0m\u001b[1;33m\u001b[0m\u001b[0m\n",
      "\u001b[1;31mInvocationException\u001b[0m: GraphViz's executables not found"
     ]
    }
   ],
   "source": [
    "keras.utils.plot_model(model, 'base_league_model.png', show_shapes=True)"
   ]
  },
  {
   "cell_type": "code",
   "execution_count": 25,
   "metadata": {},
   "outputs": [
    {
     "name": "stdout",
     "output_type": "stream",
     "text": [
      "Train on 5079 samples\n",
      "Epoch 1/5\n",
      "5079/5079 [==============================] - 2s 343us/sample - loss: 7.1398 - accuracy: 0.5344\n",
      "Epoch 2/5\n",
      "5079/5079 [==============================] - 1s 106us/sample - loss: 7.1398 - accuracy: 0.5344\n",
      "Epoch 3/5\n",
      "5079/5079 [==============================] - 1s 106us/sample - loss: 7.1398 - accuracy: 0.5344\n",
      "Epoch 4/5\n",
      "5079/5079 [==============================] - 1s 106us/sample - loss: 7.1398 - accuracy: 0.5344\n",
      "Epoch 5/5\n",
      "5079/5079 [==============================] - 1s 105us/sample - loss: 7.1398 - accuracy: 0.5344\n",
      "2503/1 - 0s - loss: 6.6243 - accuracy: 0.5645\n",
      "Test loss: 6.677279455205511\n",
      "Test accuracy: 0.56452256\n"
     ]
    }
   ],
   "source": [
    "model.compile(loss='binary_crossentropy',\n",
    "              optimizer='adam',\n",
    "              metrics=['accuracy'])\n",
    "\n",
    "model.fit(X_train_array, y_train_array, \n",
    "          batch_size=64, \n",
    "          epochs=100)\n",
    "\n",
    "test_scores = model.evaluate(X_test_array, y_test_array, verbose=2)\n",
    "\n",
    "print('Test loss:', test_scores[0])\n",
    "print('Test accuracy:', test_scores[1])"
   ]
  },
  {
   "cell_type": "code",
   "execution_count": 21,
   "metadata": {},
   "outputs": [
    {
     "data": {
      "text/plain": [
       "5719"
      ]
     },
     "execution_count": 21,
     "metadata": {},
     "output_type": "execute_result"
    }
   ],
   "source": [
    "len(X_train_array[0])"
   ]
  },
  {
   "cell_type": "code",
   "execution_count": null,
   "metadata": {},
   "outputs": [],
   "source": []
  }
 ],
 "metadata": {
  "kernelspec": {
   "display_name": "Python 3",
   "language": "python",
   "name": "python3"
  },
  "language_info": {
   "codemirror_mode": {
    "name": "ipython",
    "version": 3
   },
   "file_extension": ".py",
   "mimetype": "text/x-python",
   "name": "python",
   "nbconvert_exporter": "python",
   "pygments_lexer": "ipython3",
   "version": "3.7.3"
  }
 },
 "nbformat": 4,
 "nbformat_minor": 2
}
