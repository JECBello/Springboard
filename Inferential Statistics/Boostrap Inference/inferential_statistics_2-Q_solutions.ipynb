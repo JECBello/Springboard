{
 "cells": [
  {
   "cell_type": "markdown",
   "metadata": {},
   "source": [
    "## Medical charge data set"
   ]
  },
  {
   "cell_type": "code",
   "execution_count": 3,
   "metadata": {},
   "outputs": [],
   "source": [
    "import pandas as pd\n",
    "import numpy as np\n",
    "from numpy.random import seed\n",
    "import matplotlib.pyplot as plt"
   ]
  },
  {
   "cell_type": "code",
   "execution_count": 4,
   "metadata": {},
   "outputs": [],
   "source": [
    "med_charges = pd.read_csv('data/insurance2.csv')"
   ]
  },
  {
   "cell_type": "code",
   "execution_count": 5,
   "metadata": {},
   "outputs": [
    {
     "data": {
      "text/html": [
       "<div>\n",
       "<style scoped>\n",
       "    .dataframe tbody tr th:only-of-type {\n",
       "        vertical-align: middle;\n",
       "    }\n",
       "\n",
       "    .dataframe tbody tr th {\n",
       "        vertical-align: top;\n",
       "    }\n",
       "\n",
       "    .dataframe thead th {\n",
       "        text-align: right;\n",
       "    }\n",
       "</style>\n",
       "<table border=\"1\" class=\"dataframe\">\n",
       "  <thead>\n",
       "    <tr style=\"text-align: right;\">\n",
       "      <th></th>\n",
       "      <th>age</th>\n",
       "      <th>sex</th>\n",
       "      <th>bmi</th>\n",
       "      <th>children</th>\n",
       "      <th>smoker</th>\n",
       "      <th>region</th>\n",
       "      <th>charges</th>\n",
       "      <th>insuranceclaim</th>\n",
       "    </tr>\n",
       "  </thead>\n",
       "  <tbody>\n",
       "    <tr>\n",
       "      <th>0</th>\n",
       "      <td>19</td>\n",
       "      <td>0</td>\n",
       "      <td>27.900</td>\n",
       "      <td>0</td>\n",
       "      <td>1</td>\n",
       "      <td>3</td>\n",
       "      <td>16884.92400</td>\n",
       "      <td>1</td>\n",
       "    </tr>\n",
       "    <tr>\n",
       "      <th>1</th>\n",
       "      <td>18</td>\n",
       "      <td>1</td>\n",
       "      <td>33.770</td>\n",
       "      <td>1</td>\n",
       "      <td>0</td>\n",
       "      <td>2</td>\n",
       "      <td>1725.55230</td>\n",
       "      <td>1</td>\n",
       "    </tr>\n",
       "    <tr>\n",
       "      <th>2</th>\n",
       "      <td>28</td>\n",
       "      <td>1</td>\n",
       "      <td>33.000</td>\n",
       "      <td>3</td>\n",
       "      <td>0</td>\n",
       "      <td>2</td>\n",
       "      <td>4449.46200</td>\n",
       "      <td>0</td>\n",
       "    </tr>\n",
       "    <tr>\n",
       "      <th>3</th>\n",
       "      <td>33</td>\n",
       "      <td>1</td>\n",
       "      <td>22.705</td>\n",
       "      <td>0</td>\n",
       "      <td>0</td>\n",
       "      <td>1</td>\n",
       "      <td>21984.47061</td>\n",
       "      <td>0</td>\n",
       "    </tr>\n",
       "    <tr>\n",
       "      <th>4</th>\n",
       "      <td>32</td>\n",
       "      <td>1</td>\n",
       "      <td>28.880</td>\n",
       "      <td>0</td>\n",
       "      <td>0</td>\n",
       "      <td>1</td>\n",
       "      <td>3866.85520</td>\n",
       "      <td>1</td>\n",
       "    </tr>\n",
       "  </tbody>\n",
       "</table>\n",
       "</div>"
      ],
      "text/plain": [
       "   age  sex     bmi  children  smoker  region      charges  insuranceclaim\n",
       "0   19    0  27.900         0       1       3  16884.92400               1\n",
       "1   18    1  33.770         1       0       2   1725.55230               1\n",
       "2   28    1  33.000         3       0       2   4449.46200               0\n",
       "3   33    1  22.705         0       0       1  21984.47061               0\n",
       "4   32    1  28.880         0       0       1   3866.85520               1"
      ]
     },
     "execution_count": 5,
     "metadata": {},
     "output_type": "execute_result"
    }
   ],
   "source": [
    "med_charges.head()"
   ]
  },
  {
   "cell_type": "markdown",
   "metadata": {},
   "source": [
    "__Q:__ Use bootstrap sampling to estimate the same 95% confidence interval lower limit as before."
   ]
  },
  {
   "cell_type": "markdown",
   "metadata": {},
   "source": [
    "__A:__ "
   ]
  },
  {
   "cell_type": "code",
   "execution_count": 6,
   "metadata": {},
   "outputs": [
    {
     "data": {
      "text/plain": [
       "12724.467921704"
      ]
     },
     "execution_count": 6,
     "metadata": {},
     "output_type": "execute_result"
    }
   ],
   "source": [
    "np.random.seed(47)\n",
    "N_rep = 10000\n",
    "bs_replicates = np.empty(N_rep)\n",
    "\n",
    "for i in range(N_rep): \n",
    "    bs_sample = np.random.choice(med_charges.charges, size=len(med_charges))\n",
    "    bs_replicates[i] = np.mean(bs_sample) \n",
    "\n",
    "bs_ci_lower = np.percentile(a=bs_replicates, q=5)\n",
    "bs_ci_lower"
   ]
  },
  {
   "cell_type": "markdown",
   "metadata": {},
   "source": [
    "__Q:__ Calculate the 95% confidence interval for the difference between the standard deviations of insurance and non-insurance claim charges (insured - non-insured). Calculate the differences over 10000 replicates. Plot the histogram of values and mark the locations of the percentiles. State the null and alternative hypothesis and comment on whether you would retain or reject the null hypothesis in this case and why."
   ]
  },
  {
   "cell_type": "markdown",
   "metadata": {},
   "source": [
    "__A:__"
   ]
  },
  {
   "cell_type": "code",
   "execution_count": 7,
   "metadata": {},
   "outputs": [],
   "source": [
    "bs_std_diff = np.empty(N_rep)\n",
    "\n",
    "insured = med_charges.charges[med_charges.insuranceclaim == 1]\n",
    "non_insured = med_charges.charges[med_charges.insuranceclaim == 0]\n",
    "\n",
    "for i in range(N_rep): \n",
    "    bs_insured         = np.random.choice(insured, size=len(med_charges))\n",
    "    bs_non_insured     = np.random.choice(non_insured, size=len(med_charges))\n",
    "    bs_insured_std     = np.std(bs_insured)\n",
    "    bs_non_insured_std = np.std(bs_non_insured)\n",
    "    \n",
    "    bs_std_diff[i] = bs_insured_std - bs_non_insured_std "
   ]
  },
  {
   "cell_type": "code",
   "execution_count": 8,
   "metadata": {},
   "outputs": [
    {
     "data": {
      "image/png": "[encoded data removed]",
      "text/plain": [
       "<Figure size 432x288 with 1 Axes>"
      ]
     },
     "metadata": {
      "needs_background": "light"
     },
     "output_type": "display_data"
    }
   ],
   "source": [
    "_ = plt.hist(bs_std_diff, bins=30)\n",
    "_ = plt.xlabel('Standard Deviation Differences')\n",
    "_ = plt.ylabel('Number of Occurences')\n",
    "_ = plt.title('Distribution of Difference Between Standard Deviations' + \n",
    "              ' of Insured Patients and Non Insured Patients')\n",
    "\n",
    "percentiles = np.percentile(bs_std_diff, q=[2.5, 25, 50, 75, 97.5])\n",
    "_ = plt.axvline(percentiles[1], color='r', linestyle='--') # 25th percentile\n",
    "_ = plt.axvline(percentiles[2], color='r', linestyle='-.') # 50th percentile\n",
    "_ = plt.axvline(percentiles[3], color='r', linestyle='-.') # 75th percentile"
   ]
  },
  {
   "cell_type": "code",
   "execution_count": 9,
   "metadata": {},
   "outputs": [
    {
     "name": "stdout",
     "output_type": "stream",
     "text": [
      "The lower bound of the confidence interval is  6936.48 while the upper bound of the confidence interval is  8241.28.\n"
     ]
    }
   ],
   "source": [
    "print(f\"The lower bound of the confidence interval is {percentiles[0]: 0.2f} while\" + \n",
    "      f\" the upper bound of the confidence interval is {percentiles[4]: 0.2f}.\")"
   ]
  },
  {
   "cell_type": "markdown",
   "metadata": {},
   "source": [
    "The null hypothesis here states that there is no difference in the standard deviations of the medical costs of insured patients versus non-insured patients and that any differences are due to chance. The alternative hypothesis states that there is a difference. Because this interval does not contain zero, we can say with a 95% confidence that there will be a difference between the charges somewhere between 6936.48 and 8241.28.  "
   ]
  },
  {
   "cell_type": "markdown",
   "metadata": {},
   "source": [
    "__Q:__ Perform a bootstrapped hypothesis test at the 5% significance level ($\\alpha = 0.05$) to calculate the p-value of the observed difference between insurance and non-insurance charges, state your null and alternative hypotheses and whether you retain or reject the null hypothesis for the given significance level."
   ]
  },
  {
   "cell_type": "code",
   "execution_count": 27,
   "metadata": {},
   "outputs": [],
   "source": [
    "bs_mean_diff = np.empty(N_rep)\n",
    "\n",
    "insured     = med_charges.charges[med_charges.insuranceclaim == 1]\n",
    "non_insured = med_charges.charges[med_charges.insuranceclaim == 0]\n",
    "\n",
    "mean_charges       = np.mean(med_charges.charges)\n",
    "insured_shifted    = insured - np.mean(insured) + mean_charges\n",
    "noninsured_shifted = non_insured - np.mean(non_insured) + mean_charges\n",
    "\n",
    "for i in range(N_rep): \n",
    "    bs_insured      = np.random.choice(insured_shifted, size=len(med_charges))\n",
    "    bs_noninsured   = np.random.choice(noninsured_shifted, size=len(med_charges))\n",
    "    bs_mean_diff[i] = np.mean(bs_insured) - np.mean(bs_non_insured)"
   ]
  },
  {
   "cell_type": "code",
   "execution_count": 25,
   "metadata": {},
   "outputs": [
    {
     "data": {
      "text/plain": [
       "0.0"
      ]
     },
     "execution_count": 25,
     "metadata": {},
     "output_type": "execute_result"
    }
   ],
   "source": [
    "alpha = 0.05\n",
    "emperical_mean_diff = np.mean(insured) - np.mean(non_insured)\n",
    "p = np.sum(bs_mean_diff >= emperical_mean_diff) / len(bs_mean_diff)\n",
    "p"
   ]
  },
  {
   "cell_type": "markdown",
   "metadata": {},
   "source": [
    "The null hypothesis states that there is no difference between the difference in means between the insured patients and non-insured patients. The alternative hypothesis states that there is a difference. Because the p value is less than that of the alpha value, we choose to reject the null-hypothesis. "
   ]
  },
  {
   "cell_type": "markdown",
   "metadata": {},
   "source": [
    "__Q:__ To put the above result in perspective, plot the histogram of your bootstrapped differences along with lines marking the locations of the observed difference. (Why would we plot more than one line, given that we only have one observed difference?)"
   ]
  },
  {
   "cell_type": "code",
   "execution_count": 28,
   "metadata": {},
   "outputs": [
    {
     "data": {
      "image/png": "[encoded data removed]",
      "text/plain": [
       "<Figure size 432x288 with 1 Axes>"
      ]
     },
     "metadata": {
      "needs_background": "light"
     },
     "output_type": "display_data"
    }
   ],
   "source": [
    "_ = plt.hist(bs_mean_diff, bins=30)\n",
    "_ = plt.xlabel('Mean Difference')\n",
    "_ = plt.ylabel('Number of Occurences')\n",
    "_ = plt.title('Distribution of Difference Between Means' + \n",
    "              ' of Insured Patients and Non Insured Patients')\n",
    "\n",
    "\n",
    "_ = plt.axvline(emperical_mean_diff, color='r', linestyle='--') # 25th percentile\n",
    "_ = plt.axvline(-emperical_mean_diff, color='r', linestyle='--') # 25th percentile"
   ]
  },
  {
   "cell_type": "markdown",
   "metadata": {},
   "source": [
    "We plot two lines because we want to check both tails of the distribution. "
   ]
  },
  {
   "cell_type": "markdown",
   "metadata": {},
   "source": [
    "__Q:__ Compare your p-value above with that obtained using the _t_-test function in the previous assignment. Do you think you would want to try to perform enough bootstrap replicates to observe a random difference as large as that we did observe?"
   ]
  },
  {
   "cell_type": "markdown",
   "metadata": {},
   "source": [
    "No, because the probability of observing a random difference as large as what we did is almost zero. "
   ]
  },
  {
   "cell_type": "markdown",
   "metadata": {},
   "source": [
    "__Q:__ Consider the two variants of the _t_-test we performed in the previous assignment. Which one would you use now?"
   ]
  },
  {
   "cell_type": "markdown",
   "metadata": {},
   "source": [
    "I would rather use bootstrapping. While it does require more steps than using the scipy.stats function `ttest_ind`, it is more intuitive and makes more sense. "
   ]
  },
  {
   "cell_type": "markdown",
   "metadata": {},
   "source": [
    "__Q:__ If, instead of being asked whether the means of two groups were different, you were working with an ad-recommender team who wanted to release a new recommendation algorithm, and you were looking at click-through rate both for the current algorithm (call it A) and from trials of their new algorithm (call it B), would you perform a two-sided test as above? What would be your null and alternative hypotheses and what would be the real-world consequence of rejecting the null hypothesis?"
   ]
  },
  {
   "cell_type": "markdown",
   "metadata": {},
   "source": [
    "Yes, you would perform a two-sided test as above because you want to check whether the new algorithm is performing better or worse than the previous algorithm. Your null hypothesis would be that there is no difference in the click-through rate for both the current and new algorithm. The alternative hypothesis would be that the new algorithm performs differently, either for better or worse. The real-world consequence of rejecting the null hypothesis would be that the ad-recommender team might have used a lot of money on creating an algorithm that performs worse than the original, or it could potentially have created an ad that increases the revenue of the company.    "
   ]
  }
 ],
 "metadata": {
  "kernelspec": {
   "display_name": "Python 3",
   "language": "python",
   "name": "python3"
  },
  "language_info": {
   "codemirror_mode": {
    "name": "ipython",
    "version": 3
   },
   "file_extension": ".py",
   "mimetype": "text/x-python",
   "name": "python",
   "nbconvert_exporter": "python",
   "pygments_lexer": "ipython3",
   "version": "3.7.4"
  }
 },
 "nbformat": 4,
 "nbformat_minor": 2
}
